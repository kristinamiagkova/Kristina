{
 "cells": [
  {
   "cell_type": "markdown",
   "metadata": {},
   "source": [
    "# Анализ A/B-теста с целью увеличения выручки для интернет-магазина"
   ]
  },
  {
   "cell_type": "markdown",
   "metadata": {},
   "source": [
    "Мы являемся аналитиком крупного интернет-магазина. Вместе с отделом маркетинга мы подготовили список гипотез для увеличения выручки. Наша задача - приоритизировать гипотезы, запустить A/B-тест и проанализировать результаты. "
   ]
  },
  {
   "cell_type": "markdown",
   "metadata": {},
   "source": [
    "### Загрузка данных и подготовка их к анализу"
   ]
  },
  {
   "cell_type": "markdown",
   "metadata": {},
   "source": [
    "Изучим данные и выполним предобработку. Проверим данные на пропуски и дубликаты. Убедимся, что типы данных во всех колонках соответствуют сохранённым в них значениям. "
   ]
  },
  {
   "cell_type": "markdown",
   "metadata": {},
   "source": [
    "#### Импортируем все необходимые библиотеки"
   ]
  },
  {
   "cell_type": "code",
   "execution_count": 1,
   "metadata": {},
   "outputs": [],
   "source": [
    "import pandas as pd\n",
    "import numpy as np\n",
    "import datetime as dt\n",
    "import scipy.stats as stats\n",
    "from matplotlib import pyplot as plt\n",
    "from pandas.plotting import register_matplotlib_converters\n",
    "import warnings\n",
    "\n",
    "register_matplotlib_converters()"
   ]
  },
  {
   "cell_type": "markdown",
   "metadata": {},
   "source": [
    "Изучаем данные о каждом датасете"
   ]
  },
  {
   "cell_type": "code",
   "execution_count": 3,
   "metadata": {},
   "outputs": [
    {
     "data": {
      "text/html": [
       "<div>\n",
       "<style scoped>\n",
       "    .dataframe tbody tr th:only-of-type {\n",
       "        vertical-align: middle;\n",
       "    }\n",
       "\n",
       "    .dataframe tbody tr th {\n",
       "        vertical-align: top;\n",
       "    }\n",
       "\n",
       "    .dataframe thead th {\n",
       "        text-align: right;\n",
       "    }\n",
       "</style>\n",
       "<table border=\"1\" class=\"dataframe\">\n",
       "  <thead>\n",
       "    <tr style=\"text-align: right;\">\n",
       "      <th></th>\n",
       "      <th>Hypothesis</th>\n",
       "      <th>Reach</th>\n",
       "      <th>Impact</th>\n",
       "      <th>Confidence</th>\n",
       "      <th>Efforts</th>\n",
       "    </tr>\n",
       "  </thead>\n",
       "  <tbody>\n",
       "    <tr>\n",
       "      <th>0</th>\n",
       "      <td>Добавить два новых канала привлечения трафика,...</td>\n",
       "      <td>3</td>\n",
       "      <td>10</td>\n",
       "      <td>8</td>\n",
       "      <td>6</td>\n",
       "    </tr>\n",
       "    <tr>\n",
       "      <th>1</th>\n",
       "      <td>Запустить собственную службу доставки, что сок...</td>\n",
       "      <td>2</td>\n",
       "      <td>5</td>\n",
       "      <td>4</td>\n",
       "      <td>10</td>\n",
       "    </tr>\n",
       "    <tr>\n",
       "      <th>2</th>\n",
       "      <td>Добавить блоки рекомендаций товаров на сайт ин...</td>\n",
       "      <td>8</td>\n",
       "      <td>3</td>\n",
       "      <td>7</td>\n",
       "      <td>3</td>\n",
       "    </tr>\n",
       "    <tr>\n",
       "      <th>3</th>\n",
       "      <td>Изменить структура категорий, что увеличит кон...</td>\n",
       "      <td>8</td>\n",
       "      <td>3</td>\n",
       "      <td>3</td>\n",
       "      <td>8</td>\n",
       "    </tr>\n",
       "    <tr>\n",
       "      <th>4</th>\n",
       "      <td>Изменить цвет фона главной страницы, чтобы уве...</td>\n",
       "      <td>3</td>\n",
       "      <td>1</td>\n",
       "      <td>1</td>\n",
       "      <td>1</td>\n",
       "    </tr>\n",
       "    <tr>\n",
       "      <th>5</th>\n",
       "      <td>Добавить страницу отзывов клиентов о магазине,...</td>\n",
       "      <td>3</td>\n",
       "      <td>2</td>\n",
       "      <td>2</td>\n",
       "      <td>3</td>\n",
       "    </tr>\n",
       "    <tr>\n",
       "      <th>6</th>\n",
       "      <td>Показать на главной странице баннеры с актуаль...</td>\n",
       "      <td>5</td>\n",
       "      <td>3</td>\n",
       "      <td>8</td>\n",
       "      <td>3</td>\n",
       "    </tr>\n",
       "    <tr>\n",
       "      <th>7</th>\n",
       "      <td>Добавить форму подписки на все основные страни...</td>\n",
       "      <td>10</td>\n",
       "      <td>7</td>\n",
       "      <td>8</td>\n",
       "      <td>5</td>\n",
       "    </tr>\n",
       "    <tr>\n",
       "      <th>8</th>\n",
       "      <td>Запустить акцию, дающую скидку на товар в день...</td>\n",
       "      <td>1</td>\n",
       "      <td>9</td>\n",
       "      <td>9</td>\n",
       "      <td>5</td>\n",
       "    </tr>\n",
       "  </tbody>\n",
       "</table>\n",
       "</div>"
      ],
      "text/plain": [
       "                                          Hypothesis  Reach  Impact  \\\n",
       "0  Добавить два новых канала привлечения трафика,...      3      10   \n",
       "1  Запустить собственную службу доставки, что сок...      2       5   \n",
       "2  Добавить блоки рекомендаций товаров на сайт ин...      8       3   \n",
       "3  Изменить структура категорий, что увеличит кон...      8       3   \n",
       "4  Изменить цвет фона главной страницы, чтобы уве...      3       1   \n",
       "5  Добавить страницу отзывов клиентов о магазине,...      3       2   \n",
       "6  Показать на главной странице баннеры с актуаль...      5       3   \n",
       "7  Добавить форму подписки на все основные страни...     10       7   \n",
       "8  Запустить акцию, дающую скидку на товар в день...      1       9   \n",
       "\n",
       "   Confidence  Efforts  \n",
       "0           8        6  \n",
       "1           4       10  \n",
       "2           7        3  \n",
       "3           3        8  \n",
       "4           1        1  \n",
       "5           2        3  \n",
       "6           8        3  \n",
       "7           8        5  \n",
       "8           9        5  "
      ]
     },
     "execution_count": 3,
     "metadata": {},
     "output_type": "execute_result"
    }
   ],
   "source": [
    "hypothesis"
   ]
  },
  {
   "cell_type": "code",
   "execution_count": 4,
   "metadata": {},
   "outputs": [
    {
     "name": "stdout",
     "output_type": "stream",
     "text": [
      "<class 'pandas.core.frame.DataFrame'>\n",
      "RangeIndex: 9 entries, 0 to 8\n",
      "Data columns (total 5 columns):\n",
      " #   Column      Non-Null Count  Dtype \n",
      "---  ------      --------------  ----- \n",
      " 0   Hypothesis  9 non-null      object\n",
      " 1   Reach       9 non-null      int64 \n",
      " 2   Impact      9 non-null      int64 \n",
      " 3   Confidence  9 non-null      int64 \n",
      " 4   Efforts     9 non-null      int64 \n",
      "dtypes: int64(4), object(1)\n",
      "memory usage: 488.0+ bytes\n"
     ]
    }
   ],
   "source": [
    "hypothesis.info()"
   ]
  },
  {
   "cell_type": "code",
   "execution_count": 5,
   "metadata": {},
   "outputs": [
    {
     "data": {
      "text/html": [
       "<div>\n",
       "<style scoped>\n",
       "    .dataframe tbody tr th:only-of-type {\n",
       "        vertical-align: middle;\n",
       "    }\n",
       "\n",
       "    .dataframe tbody tr th {\n",
       "        vertical-align: top;\n",
       "    }\n",
       "\n",
       "    .dataframe thead th {\n",
       "        text-align: right;\n",
       "    }\n",
       "</style>\n",
       "<table border=\"1\" class=\"dataframe\">\n",
       "  <thead>\n",
       "    <tr style=\"text-align: right;\">\n",
       "      <th></th>\n",
       "      <th>transactionId</th>\n",
       "      <th>visitorId</th>\n",
       "      <th>date</th>\n",
       "      <th>revenue</th>\n",
       "      <th>group</th>\n",
       "    </tr>\n",
       "  </thead>\n",
       "  <tbody>\n",
       "    <tr>\n",
       "      <th>0</th>\n",
       "      <td>3667963787</td>\n",
       "      <td>3312258926</td>\n",
       "      <td>2019-08-15</td>\n",
       "      <td>1650</td>\n",
       "      <td>B</td>\n",
       "    </tr>\n",
       "    <tr>\n",
       "      <th>1</th>\n",
       "      <td>2804400009</td>\n",
       "      <td>3642806036</td>\n",
       "      <td>2019-08-15</td>\n",
       "      <td>730</td>\n",
       "      <td>B</td>\n",
       "    </tr>\n",
       "    <tr>\n",
       "      <th>2</th>\n",
       "      <td>2961555356</td>\n",
       "      <td>4069496402</td>\n",
       "      <td>2019-08-15</td>\n",
       "      <td>400</td>\n",
       "      <td>A</td>\n",
       "    </tr>\n",
       "    <tr>\n",
       "      <th>3</th>\n",
       "      <td>3797467345</td>\n",
       "      <td>1196621759</td>\n",
       "      <td>2019-08-15</td>\n",
       "      <td>9759</td>\n",
       "      <td>B</td>\n",
       "    </tr>\n",
       "    <tr>\n",
       "      <th>4</th>\n",
       "      <td>2282983706</td>\n",
       "      <td>2322279887</td>\n",
       "      <td>2019-08-15</td>\n",
       "      <td>2308</td>\n",
       "      <td>B</td>\n",
       "    </tr>\n",
       "  </tbody>\n",
       "</table>\n",
       "</div>"
      ],
      "text/plain": [
       "   transactionId   visitorId        date  revenue group\n",
       "0     3667963787  3312258926  2019-08-15     1650     B\n",
       "1     2804400009  3642806036  2019-08-15      730     B\n",
       "2     2961555356  4069496402  2019-08-15      400     A\n",
       "3     3797467345  1196621759  2019-08-15     9759     B\n",
       "4     2282983706  2322279887  2019-08-15     2308     B"
      ]
     },
     "execution_count": 5,
     "metadata": {},
     "output_type": "execute_result"
    }
   ],
   "source": [
    "orders.head(5)"
   ]
  },
  {
   "cell_type": "code",
   "execution_count": 6,
   "metadata": {},
   "outputs": [
    {
     "name": "stdout",
     "output_type": "stream",
     "text": [
      "<class 'pandas.core.frame.DataFrame'>\n",
      "RangeIndex: 1197 entries, 0 to 1196\n",
      "Data columns (total 5 columns):\n",
      " #   Column         Non-Null Count  Dtype \n",
      "---  ------         --------------  ----- \n",
      " 0   transactionId  1197 non-null   int64 \n",
      " 1   visitorId      1197 non-null   int64 \n",
      " 2   date           1197 non-null   object\n",
      " 3   revenue        1197 non-null   int64 \n",
      " 4   group          1197 non-null   object\n",
      "dtypes: int64(3), object(2)\n",
      "memory usage: 46.9+ KB\n"
     ]
    }
   ],
   "source": [
    "orders.info()"
   ]
  },
  {
   "cell_type": "code",
   "execution_count": 7,
   "metadata": {},
   "outputs": [
    {
     "data": {
      "text/html": [
       "<div>\n",
       "<style scoped>\n",
       "    .dataframe tbody tr th:only-of-type {\n",
       "        vertical-align: middle;\n",
       "    }\n",
       "\n",
       "    .dataframe tbody tr th {\n",
       "        vertical-align: top;\n",
       "    }\n",
       "\n",
       "    .dataframe thead th {\n",
       "        text-align: right;\n",
       "    }\n",
       "</style>\n",
       "<table border=\"1\" class=\"dataframe\">\n",
       "  <thead>\n",
       "    <tr style=\"text-align: right;\">\n",
       "      <th></th>\n",
       "      <th>date</th>\n",
       "      <th>group</th>\n",
       "      <th>visitors</th>\n",
       "    </tr>\n",
       "  </thead>\n",
       "  <tbody>\n",
       "    <tr>\n",
       "      <th>0</th>\n",
       "      <td>2019-08-01</td>\n",
       "      <td>A</td>\n",
       "      <td>719</td>\n",
       "    </tr>\n",
       "    <tr>\n",
       "      <th>1</th>\n",
       "      <td>2019-08-02</td>\n",
       "      <td>A</td>\n",
       "      <td>619</td>\n",
       "    </tr>\n",
       "    <tr>\n",
       "      <th>2</th>\n",
       "      <td>2019-08-03</td>\n",
       "      <td>A</td>\n",
       "      <td>507</td>\n",
       "    </tr>\n",
       "    <tr>\n",
       "      <th>3</th>\n",
       "      <td>2019-08-04</td>\n",
       "      <td>A</td>\n",
       "      <td>717</td>\n",
       "    </tr>\n",
       "    <tr>\n",
       "      <th>4</th>\n",
       "      <td>2019-08-05</td>\n",
       "      <td>A</td>\n",
       "      <td>756</td>\n",
       "    </tr>\n",
       "  </tbody>\n",
       "</table>\n",
       "</div>"
      ],
      "text/plain": [
       "         date group  visitors\n",
       "0  2019-08-01     A       719\n",
       "1  2019-08-02     A       619\n",
       "2  2019-08-03     A       507\n",
       "3  2019-08-04     A       717\n",
       "4  2019-08-05     A       756"
      ]
     },
     "execution_count": 7,
     "metadata": {},
     "output_type": "execute_result"
    }
   ],
   "source": [
    "visitors.head(5)"
   ]
  },
  {
   "cell_type": "code",
   "execution_count": 8,
   "metadata": {},
   "outputs": [
    {
     "name": "stdout",
     "output_type": "stream",
     "text": [
      "<class 'pandas.core.frame.DataFrame'>\n",
      "RangeIndex: 62 entries, 0 to 61\n",
      "Data columns (total 3 columns):\n",
      " #   Column    Non-Null Count  Dtype \n",
      "---  ------    --------------  ----- \n",
      " 0   date      62 non-null     object\n",
      " 1   group     62 non-null     object\n",
      " 2   visitors  62 non-null     int64 \n",
      "dtypes: int64(1), object(2)\n",
      "memory usage: 1.6+ KB\n"
     ]
    }
   ],
   "source": [
    "visitors.info()"
   ]
  },
  {
   "cell_type": "markdown",
   "metadata": {},
   "source": [
    "#### Изменение типов данных"
   ]
  },
  {
   "cell_type": "markdown",
   "metadata": {},
   "source": [
    "В ходе изучения общей информации о данных датасетах, мы выявили, что в некоторых столбцах типы данных не соответствуют представленным в них значениям. К таким столбцам относятся `date` из датасета orders и `date` из датасета visitors. Во всех этих столбцах предсталены данные о дате и времени, но тип данных в них object. Необходимо заменить тип данных object на datetime."
   ]
  },
  {
   "cell_type": "code",
   "execution_count": 9,
   "metadata": {},
   "outputs": [],
   "source": [
    "orders['date'] = pd.to_datetime(orders['date'])\n",
    "visitors['date'] = pd.to_datetime(visitors['date'])"
   ]
  },
  {
   "cell_type": "markdown",
   "metadata": {},
   "source": [
    "Проверим, что получилось. Вывыдем ещё раз общую информацию о датасетах."
   ]
  },
  {
   "cell_type": "code",
   "execution_count": 10,
   "metadata": {},
   "outputs": [
    {
     "name": "stdout",
     "output_type": "stream",
     "text": [
      "<class 'pandas.core.frame.DataFrame'>\n",
      "RangeIndex: 1197 entries, 0 to 1196\n",
      "Data columns (total 5 columns):\n",
      " #   Column         Non-Null Count  Dtype         \n",
      "---  ------         --------------  -----         \n",
      " 0   transactionId  1197 non-null   int64         \n",
      " 1   visitorId      1197 non-null   int64         \n",
      " 2   date           1197 non-null   datetime64[ns]\n",
      " 3   revenue        1197 non-null   int64         \n",
      " 4   group          1197 non-null   object        \n",
      "dtypes: datetime64[ns](1), int64(3), object(1)\n",
      "memory usage: 46.9+ KB\n"
     ]
    }
   ],
   "source": [
    "orders.info()"
   ]
  },
  {
   "cell_type": "code",
   "execution_count": 11,
   "metadata": {
    "scrolled": true
   },
   "outputs": [
    {
     "name": "stdout",
     "output_type": "stream",
     "text": [
      "<class 'pandas.core.frame.DataFrame'>\n",
      "RangeIndex: 62 entries, 0 to 61\n",
      "Data columns (total 3 columns):\n",
      " #   Column    Non-Null Count  Dtype         \n",
      "---  ------    --------------  -----         \n",
      " 0   date      62 non-null     datetime64[ns]\n",
      " 1   group     62 non-null     object        \n",
      " 2   visitors  62 non-null     int64         \n",
      "dtypes: datetime64[ns](1), int64(1), object(1)\n",
      "memory usage: 1.6+ KB\n"
     ]
    }
   ],
   "source": [
    "visitors.info()"
   ]
  },
  {
   "cell_type": "markdown",
   "metadata": {},
   "source": [
    "#### Изменение названий столбцов"
   ]
  },
  {
   "cell_type": "markdown",
   "metadata": {},
   "source": [
    "Приведем названия столбцов к нижнему регистру и к snake_case"
   ]
  },
  {
   "cell_type": "code",
   "execution_count": 12,
   "metadata": {
    "scrolled": true
   },
   "outputs": [
    {
     "data": {
      "text/plain": [
       "Index(['Hypothesis', 'Reach', 'Impact', 'Confidence', 'Efforts'], dtype='object')"
      ]
     },
     "execution_count": 12,
     "metadata": {},
     "output_type": "execute_result"
    }
   ],
   "source": [
    "hypothesis.columns"
   ]
  },
  {
   "cell_type": "code",
   "execution_count": 41,
   "metadata": {},
   "outputs": [
    {
     "data": {
      "text/plain": [
       "Index(['hypothesis', 'reach', 'impact', 'confidence', 'efforts', 'ice',\n",
       "       'rice'],\n",
       "      dtype='object')"
      ]
     },
     "execution_count": 41,
     "metadata": {},
     "output_type": "execute_result"
    }
   ],
   "source": [
    "hypothesis.columns = hypothesis.columns.str.lower()\n",
    "hypothesis.columns"
   ]
  },
  {
   "cell_type": "markdown",
   "metadata": {},
   "source": [
    "#### Обработка пропусков"
   ]
  },
  {
   "cell_type": "code",
   "execution_count": 14,
   "metadata": {},
   "outputs": [
    {
     "data": {
      "text/plain": [
       "transactionId    0\n",
       "visitorId        0\n",
       "date             0\n",
       "revenue          0\n",
       "group            0\n",
       "dtype: int64"
      ]
     },
     "execution_count": 14,
     "metadata": {},
     "output_type": "execute_result"
    }
   ],
   "source": [
    "orders.isna().sum()"
   ]
  },
  {
   "cell_type": "code",
   "execution_count": 15,
   "metadata": {},
   "outputs": [
    {
     "data": {
      "text/plain": [
       "date        0\n",
       "group       0\n",
       "visitors    0\n",
       "dtype: int64"
      ]
     },
     "execution_count": 15,
     "metadata": {},
     "output_type": "execute_result"
    }
   ],
   "source": [
    "visitors.isna().sum()"
   ]
  },
  {
   "cell_type": "markdown",
   "metadata": {},
   "source": [
    "В данных датафреймах нет пропусков. Переходим к следующему этапу предобработки данных."
   ]
  },
  {
   "cell_type": "markdown",
   "metadata": {},
   "source": [
    "#### Обработка дубликатов"
   ]
  },
  {
   "cell_type": "code",
   "execution_count": 16,
   "metadata": {},
   "outputs": [
    {
     "name": "stdout",
     "output_type": "stream",
     "text": [
      "0\n"
     ]
    }
   ],
   "source": [
    "orders.duplicated().sum()"
   ]
  },
  {
   "cell_type": "code",
   "execution_count": 17,
   "metadata": {},
   "outputs": [
    {
     "name": "stdout",
     "output_type": "stream",
     "text": [
      "0\n"
     ]
    }
   ],
   "source": [
    "visitors.duplicated().sum()"
   ]
  },
  {
   "cell_type": "code",
   "execution_count": 42,
   "metadata": {},
   "outputs": [
    {
     "data": {
      "text/plain": [
       "0"
      ]
     },
     "execution_count": 42,
     "metadata": {},
     "output_type": "execute_result"
    }
   ],
   "source": [
    "hypothesis.duplicated().sum()"
   ]
  },
  {
   "cell_type": "markdown",
   "metadata": {},
   "source": [
    "Ни в одном датасете явные дубликаты не обнаружены"
   ]
  },
  {
   "cell_type": "markdown",
   "metadata": {},
   "source": [
    "### Приоритизация гипотез"
   ]
  },
  {
   "cell_type": "markdown",
   "metadata": {},
   "source": [
    "Изучим ещё раз файл с гипотезами и оценками параметров ICE. Посчитаем ICE для приоритизации гипотез. Отсортируем их по убыванию приоритета. "
   ]
  },
  {
   "cell_type": "code",
   "execution_count": 19,
   "metadata": {},
   "outputs": [],
   "source": [
    "pd.options.display.max_colwidth = 120"
   ]
  },
  {
   "cell_type": "code",
   "execution_count": 20,
   "metadata": {},
   "outputs": [
    {
     "data": {
      "text/html": [
       "<div>\n",
       "<style scoped>\n",
       "    .dataframe tbody tr th:only-of-type {\n",
       "        vertical-align: middle;\n",
       "    }\n",
       "\n",
       "    .dataframe tbody tr th {\n",
       "        vertical-align: top;\n",
       "    }\n",
       "\n",
       "    .dataframe thead th {\n",
       "        text-align: right;\n",
       "    }\n",
       "</style>\n",
       "<table border=\"1\" class=\"dataframe\">\n",
       "  <thead>\n",
       "    <tr style=\"text-align: right;\">\n",
       "      <th></th>\n",
       "      <th>hypothesis</th>\n",
       "      <th>reach</th>\n",
       "      <th>impact</th>\n",
       "      <th>confidence</th>\n",
       "      <th>efforts</th>\n",
       "    </tr>\n",
       "  </thead>\n",
       "  <tbody>\n",
       "    <tr>\n",
       "      <th>0</th>\n",
       "      <td>Добавить два новых канала привлечения трафика, что позволит привлекать на 30% больше пользователей</td>\n",
       "      <td>3</td>\n",
       "      <td>10</td>\n",
       "      <td>8</td>\n",
       "      <td>6</td>\n",
       "    </tr>\n",
       "    <tr>\n",
       "      <th>1</th>\n",
       "      <td>Запустить собственную службу доставки, что сократит срок доставки заказов</td>\n",
       "      <td>2</td>\n",
       "      <td>5</td>\n",
       "      <td>4</td>\n",
       "      <td>10</td>\n",
       "    </tr>\n",
       "    <tr>\n",
       "      <th>2</th>\n",
       "      <td>Добавить блоки рекомендаций товаров на сайт интернет магазина, чтобы повысить конверсию и средний чек заказа</td>\n",
       "      <td>8</td>\n",
       "      <td>3</td>\n",
       "      <td>7</td>\n",
       "      <td>3</td>\n",
       "    </tr>\n",
       "    <tr>\n",
       "      <th>3</th>\n",
       "      <td>Изменить структура категорий, что увеличит конверсию, т.к. пользователи быстрее найдут нужный товар</td>\n",
       "      <td>8</td>\n",
       "      <td>3</td>\n",
       "      <td>3</td>\n",
       "      <td>8</td>\n",
       "    </tr>\n",
       "    <tr>\n",
       "      <th>4</th>\n",
       "      <td>Изменить цвет фона главной страницы, чтобы увеличить вовлеченность пользователей</td>\n",
       "      <td>3</td>\n",
       "      <td>1</td>\n",
       "      <td>1</td>\n",
       "      <td>1</td>\n",
       "    </tr>\n",
       "    <tr>\n",
       "      <th>5</th>\n",
       "      <td>Добавить страницу отзывов клиентов о магазине, что позволит увеличить количество заказов</td>\n",
       "      <td>3</td>\n",
       "      <td>2</td>\n",
       "      <td>2</td>\n",
       "      <td>3</td>\n",
       "    </tr>\n",
       "    <tr>\n",
       "      <th>6</th>\n",
       "      <td>Показать на главной странице баннеры с актуальными акциями и распродажами, чтобы увеличить конверсию</td>\n",
       "      <td>5</td>\n",
       "      <td>3</td>\n",
       "      <td>8</td>\n",
       "      <td>3</td>\n",
       "    </tr>\n",
       "    <tr>\n",
       "      <th>7</th>\n",
       "      <td>Добавить форму подписки на все основные страницы, чтобы собрать базу клиентов для email-рассылок</td>\n",
       "      <td>10</td>\n",
       "      <td>7</td>\n",
       "      <td>8</td>\n",
       "      <td>5</td>\n",
       "    </tr>\n",
       "    <tr>\n",
       "      <th>8</th>\n",
       "      <td>Запустить акцию, дающую скидку на товар в день рождения</td>\n",
       "      <td>1</td>\n",
       "      <td>9</td>\n",
       "      <td>9</td>\n",
       "      <td>5</td>\n",
       "    </tr>\n",
       "  </tbody>\n",
       "</table>\n",
       "</div>"
      ],
      "text/plain": [
       "                                                                                                     hypothesis  \\\n",
       "0            Добавить два новых канала привлечения трафика, что позволит привлекать на 30% больше пользователей   \n",
       "1                                     Запустить собственную службу доставки, что сократит срок доставки заказов   \n",
       "2  Добавить блоки рекомендаций товаров на сайт интернет магазина, чтобы повысить конверсию и средний чек заказа   \n",
       "3           Изменить структура категорий, что увеличит конверсию, т.к. пользователи быстрее найдут нужный товар   \n",
       "4                              Изменить цвет фона главной страницы, чтобы увеличить вовлеченность пользователей   \n",
       "5                      Добавить страницу отзывов клиентов о магазине, что позволит увеличить количество заказов   \n",
       "6          Показать на главной странице баннеры с актуальными акциями и распродажами, чтобы увеличить конверсию   \n",
       "7              Добавить форму подписки на все основные страницы, чтобы собрать базу клиентов для email-рассылок   \n",
       "8                                                       Запустить акцию, дающую скидку на товар в день рождения   \n",
       "\n",
       "   reach  impact  confidence  efforts  \n",
       "0      3      10           8        6  \n",
       "1      2       5           4       10  \n",
       "2      8       3           7        3  \n",
       "3      8       3           3        8  \n",
       "4      3       1           1        1  \n",
       "5      3       2           2        3  \n",
       "6      5       3           8        3  \n",
       "7     10       7           8        5  \n",
       "8      1       9           9        5  "
      ]
     },
     "execution_count": 20,
     "metadata": {},
     "output_type": "execute_result"
    }
   ],
   "source": [
    "hypothesis"
   ]
  },
  {
   "cell_type": "code",
   "execution_count": 21,
   "metadata": {
    "scrolled": true
   },
   "outputs": [
    {
     "data": {
      "text/html": [
       "<div>\n",
       "<style scoped>\n",
       "    .dataframe tbody tr th:only-of-type {\n",
       "        vertical-align: middle;\n",
       "    }\n",
       "\n",
       "    .dataframe tbody tr th {\n",
       "        vertical-align: top;\n",
       "    }\n",
       "\n",
       "    .dataframe thead th {\n",
       "        text-align: right;\n",
       "    }\n",
       "</style>\n",
       "<table border=\"1\" class=\"dataframe\">\n",
       "  <thead>\n",
       "    <tr style=\"text-align: right;\">\n",
       "      <th></th>\n",
       "      <th>hypothesis</th>\n",
       "      <th>ICE</th>\n",
       "    </tr>\n",
       "  </thead>\n",
       "  <tbody>\n",
       "    <tr>\n",
       "      <th>8</th>\n",
       "      <td>Запустить акцию, дающую скидку на товар в день рождения</td>\n",
       "      <td>16.200000</td>\n",
       "    </tr>\n",
       "    <tr>\n",
       "      <th>0</th>\n",
       "      <td>Добавить два новых канала привлечения трафика, что позволит привлекать на 30% больше пользователей</td>\n",
       "      <td>13.333333</td>\n",
       "    </tr>\n",
       "    <tr>\n",
       "      <th>7</th>\n",
       "      <td>Добавить форму подписки на все основные страницы, чтобы собрать базу клиентов для email-рассылок</td>\n",
       "      <td>11.200000</td>\n",
       "    </tr>\n",
       "    <tr>\n",
       "      <th>6</th>\n",
       "      <td>Показать на главной странице баннеры с актуальными акциями и распродажами, чтобы увеличить конверсию</td>\n",
       "      <td>8.000000</td>\n",
       "    </tr>\n",
       "    <tr>\n",
       "      <th>2</th>\n",
       "      <td>Добавить блоки рекомендаций товаров на сайт интернет магазина, чтобы повысить конверсию и средний чек заказа</td>\n",
       "      <td>7.000000</td>\n",
       "    </tr>\n",
       "    <tr>\n",
       "      <th>1</th>\n",
       "      <td>Запустить собственную службу доставки, что сократит срок доставки заказов</td>\n",
       "      <td>2.000000</td>\n",
       "    </tr>\n",
       "    <tr>\n",
       "      <th>5</th>\n",
       "      <td>Добавить страницу отзывов клиентов о магазине, что позволит увеличить количество заказов</td>\n",
       "      <td>1.333333</td>\n",
       "    </tr>\n",
       "    <tr>\n",
       "      <th>3</th>\n",
       "      <td>Изменить структура категорий, что увеличит конверсию, т.к. пользователи быстрее найдут нужный товар</td>\n",
       "      <td>1.125000</td>\n",
       "    </tr>\n",
       "    <tr>\n",
       "      <th>4</th>\n",
       "      <td>Изменить цвет фона главной страницы, чтобы увеличить вовлеченность пользователей</td>\n",
       "      <td>1.000000</td>\n",
       "    </tr>\n",
       "  </tbody>\n",
       "</table>\n",
       "</div>"
      ],
      "text/plain": [
       "                                                                                                     hypothesis  \\\n",
       "8                                                       Запустить акцию, дающую скидку на товар в день рождения   \n",
       "0            Добавить два новых канала привлечения трафика, что позволит привлекать на 30% больше пользователей   \n",
       "7              Добавить форму подписки на все основные страницы, чтобы собрать базу клиентов для email-рассылок   \n",
       "6          Показать на главной странице баннеры с актуальными акциями и распродажами, чтобы увеличить конверсию   \n",
       "2  Добавить блоки рекомендаций товаров на сайт интернет магазина, чтобы повысить конверсию и средний чек заказа   \n",
       "1                                     Запустить собственную службу доставки, что сократит срок доставки заказов   \n",
       "5                      Добавить страницу отзывов клиентов о магазине, что позволит увеличить количество заказов   \n",
       "3           Изменить структура категорий, что увеличит конверсию, т.к. пользователи быстрее найдут нужный товар   \n",
       "4                              Изменить цвет фона главной страницы, чтобы увеличить вовлеченность пользователей   \n",
       "\n",
       "         ICE  \n",
       "8  16.200000  \n",
       "0  13.333333  \n",
       "7  11.200000  \n",
       "6   8.000000  \n",
       "2   7.000000  \n",
       "1   2.000000  \n",
       "5   1.333333  \n",
       "3   1.125000  \n",
       "4   1.000000  "
      ]
     },
     "execution_count": 21,
     "metadata": {},
     "output_type": "execute_result"
    }
   ],
   "source": [
    "hypothesis['ICE'] = (hypothesis['impact'] * hypothesis['confidence'])/hypothesis['efforts']\n",
    "hypothesis[['hypothesis', 'ICE']].sort_values(by='ICE', ascending = False)"
   ]
  },
  {
   "cell_type": "markdown",
   "metadata": {},
   "source": [
    "Фреймворк ICE показал, что наиболее перспективные гипотезы - 8, 0, 7, 6."
   ]
  },
  {
   "cell_type": "code",
   "execution_count": 22,
   "metadata": {},
   "outputs": [
    {
     "data": {
      "text/html": [
       "<div>\n",
       "<style scoped>\n",
       "    .dataframe tbody tr th:only-of-type {\n",
       "        vertical-align: middle;\n",
       "    }\n",
       "\n",
       "    .dataframe tbody tr th {\n",
       "        vertical-align: top;\n",
       "    }\n",
       "\n",
       "    .dataframe thead th {\n",
       "        text-align: right;\n",
       "    }\n",
       "</style>\n",
       "<table border=\"1\" class=\"dataframe\">\n",
       "  <thead>\n",
       "    <tr style=\"text-align: right;\">\n",
       "      <th></th>\n",
       "      <th>hypothesis</th>\n",
       "      <th>RICE</th>\n",
       "    </tr>\n",
       "  </thead>\n",
       "  <tbody>\n",
       "    <tr>\n",
       "      <th>7</th>\n",
       "      <td>Добавить форму подписки на все основные страницы, чтобы собрать базу клиентов для email-рассылок</td>\n",
       "      <td>112.0</td>\n",
       "    </tr>\n",
       "    <tr>\n",
       "      <th>2</th>\n",
       "      <td>Добавить блоки рекомендаций товаров на сайт интернет магазина, чтобы повысить конверсию и средний чек заказа</td>\n",
       "      <td>56.0</td>\n",
       "    </tr>\n",
       "    <tr>\n",
       "      <th>0</th>\n",
       "      <td>Добавить два новых канала привлечения трафика, что позволит привлекать на 30% больше пользователей</td>\n",
       "      <td>40.0</td>\n",
       "    </tr>\n",
       "    <tr>\n",
       "      <th>6</th>\n",
       "      <td>Показать на главной странице баннеры с актуальными акциями и распродажами, чтобы увеличить конверсию</td>\n",
       "      <td>40.0</td>\n",
       "    </tr>\n",
       "    <tr>\n",
       "      <th>8</th>\n",
       "      <td>Запустить акцию, дающую скидку на товар в день рождения</td>\n",
       "      <td>16.2</td>\n",
       "    </tr>\n",
       "    <tr>\n",
       "      <th>3</th>\n",
       "      <td>Изменить структура категорий, что увеличит конверсию, т.к. пользователи быстрее найдут нужный товар</td>\n",
       "      <td>9.0</td>\n",
       "    </tr>\n",
       "    <tr>\n",
       "      <th>1</th>\n",
       "      <td>Запустить собственную службу доставки, что сократит срок доставки заказов</td>\n",
       "      <td>4.0</td>\n",
       "    </tr>\n",
       "    <tr>\n",
       "      <th>5</th>\n",
       "      <td>Добавить страницу отзывов клиентов о магазине, что позволит увеличить количество заказов</td>\n",
       "      <td>4.0</td>\n",
       "    </tr>\n",
       "    <tr>\n",
       "      <th>4</th>\n",
       "      <td>Изменить цвет фона главной страницы, чтобы увеличить вовлеченность пользователей</td>\n",
       "      <td>3.0</td>\n",
       "    </tr>\n",
       "  </tbody>\n",
       "</table>\n",
       "</div>"
      ],
      "text/plain": [
       "                                                                                                     hypothesis  \\\n",
       "7              Добавить форму подписки на все основные страницы, чтобы собрать базу клиентов для email-рассылок   \n",
       "2  Добавить блоки рекомендаций товаров на сайт интернет магазина, чтобы повысить конверсию и средний чек заказа   \n",
       "0            Добавить два новых канала привлечения трафика, что позволит привлекать на 30% больше пользователей   \n",
       "6          Показать на главной странице баннеры с актуальными акциями и распродажами, чтобы увеличить конверсию   \n",
       "8                                                       Запустить акцию, дающую скидку на товар в день рождения   \n",
       "3           Изменить структура категорий, что увеличит конверсию, т.к. пользователи быстрее найдут нужный товар   \n",
       "1                                     Запустить собственную службу доставки, что сократит срок доставки заказов   \n",
       "5                      Добавить страницу отзывов клиентов о магазине, что позволит увеличить количество заказов   \n",
       "4                              Изменить цвет фона главной страницы, чтобы увеличить вовлеченность пользователей   \n",
       "\n",
       "    RICE  \n",
       "7  112.0  \n",
       "2   56.0  \n",
       "0   40.0  \n",
       "6   40.0  \n",
       "8   16.2  \n",
       "3    9.0  \n",
       "1    4.0  \n",
       "5    4.0  \n",
       "4    3.0  "
      ]
     },
     "execution_count": 22,
     "metadata": {},
     "output_type": "execute_result"
    }
   ],
   "source": [
    "hypothesis['RICE'] = (hypothesis['reach'] * hypothesis['confidence'] * hypothesis['impact']) / hypothesis['efforts']\n",
    "hypothesis[['hypothesis', 'RICE']].sort_values(by='RICE', ascending=False)"
   ]
  },
  {
   "cell_type": "markdown",
   "metadata": {},
   "source": [
    " Фремфорк RICE показал, что наиболее перспективные гипотезы - 7, 2, 0, 6. Особенно выделяется гипотеза под номером 7.  "
   ]
  },
  {
   "cell_type": "markdown",
   "metadata": {},
   "source": [
    "При применении RICE приоритация гипотез измнилась, так как при ICE наиболее перспективными были гипотезы 8(Запустить акцию, дающую скидку на товар в день рождения), 0(Добавить два новых канала привлечения трафика, что позволит привлекать на 30% больше пользователей), 7(Добавить форму подписки на все основные страницы, чтобы собрать базу клиентов для email-рассылок), 6(Показать на главной странице баннеры с актуальными акциями и распродажами, чтобы увеличить конверсию), а при RICE наиболее перспективными являются 7(Добавить форму подписки на все основные страницы, чтобы собрать базу клиентов для email-рассылок), 2(Добавить блоки рекомендаций товаров на сайт интернет магазина, чтобы повысить конверсию и средний чек заказа), 0(Добавить два новых канала привлечения трафика, что позволит привлекать на 30% больше пользователей), 6(Показать на главной странице баннеры с актуальными акциями и распродажами, чтобы увеличить конверсию). \n",
    "\n",
    "Изменился порядок приоритизации, только гипотезы 0 и 6 вошли в оба фреймворка. Так произошло, потому что при расчёте с помощью фреймворка RICE был задействован ещё один важный показатель - Reach, который показывает скольких пользователей затронет изменение, которое мы хотим внести. Такие гипотезы, как \"Добавить форму подписки на все основные страницы, чтобы собрать базу клиентов для email-рассылок\" и \"Добавить блоки рекомендаций товаров на сайт интернет магазина, чтобы повысить конверсию и средний чек заказа\" затронет большее количество пользователей, чем другие гипотезы.\t"
   ]
  },
  {
   "cell_type": "markdown",
   "metadata": {},
   "source": [
    "### Анализ A/B - теста"
   ]
  },
  {
   "cell_type": "markdown",
   "metadata": {},
   "source": [
    "Мы провели A/B-тест и получили его результаты. Перед тем, как начать анализ, нам необходимо проверить, нет ли в таблицах пересекающихся по группам пользователей, то есть тех, кто попал в обе группы."
   ]
  },
  {
   "cell_type": "code",
   "execution_count": 23,
   "metadata": {},
   "outputs": [
    {
     "name": "stdout",
     "output_type": "stream",
     "text": [
      "Количество пользователей, попавших одновременно в обе группы: 58\n",
      "Количество уникальных пользователей, принявших участие в тесте: 1031\n",
      "Процент пользователей, попавших одновременно в обе группы: 5.63%\n"
     ]
    }
   ],
   "source": [
    "double_users = orders.groupby('visitorId').agg({'group':'nunique'}).query('group>1')\n",
    "users_unique = orders['visitorId'].nunique()\n",
    "\n",
    "print('Количество пользователей, попавших одновременно в обе группы: {}\\n'\n",
    "      'Количество уникальных пользователей, принявших участие в тесте: {}\\n'\n",
    "      'Процент пользователей, попавших одновременно в обе группы: {:.2%}'.format(len(double_users),\n",
    "                                                                                users_unique,\n",
    "                                                                                len(double_users)/users_unique))"
   ]
  },
  {
   "cell_type": "markdown",
   "metadata": {},
   "source": [
    "Мы выявили, что в результатах теста насчитывается 58 пользователей (что составляет 5.63%), которые попали в обе группы, и 1031 уникальный пользователь. Удалим пользователей, которые попали в обе группы, чтобы в дальнейшем это не исказило анализ результатов A/B-теста."
   ]
  },
  {
   "cell_type": "code",
   "execution_count": 24,
   "metadata": {},
   "outputs": [],
   "source": [
    "orders.groupby('visitorId').agg({'group' : 'nunique'}).query('group>1').count()\n",
    "double_users = orders.groupby('visitorId').agg({'group' : 'nunique'}).reset_index().query('group>1')['visitorId'].unique()\n",
    "orders = orders.query('visitorId not in @double_users')"
   ]
  },
  {
   "cell_type": "markdown",
   "metadata": {},
   "source": [
    "Проверим количество пользователей, которые попали в обе группы, после удаления"
   ]
  },
  {
   "cell_type": "code",
   "execution_count": 25,
   "metadata": {},
   "outputs": [
    {
     "name": "stdout",
     "output_type": "stream",
     "text": [
      "Количество пользователей, попавших одновременно в обе группы: 0\n"
     ]
    }
   ],
   "source": [
    "double_users_check = orders.groupby('visitorId').agg({'group':'nunique'}).query('group>1')\n",
    "print('Количество пользователей, попавших одновременно в обе группы:', len(double_users_check))"
   ]
  },
  {
   "cell_type": "markdown",
   "metadata": {},
   "source": [
    "#### График кумулятивный выручки по группам"
   ]
  },
  {
   "cell_type": "markdown",
   "metadata": {},
   "source": [
    "Создадим переменные, необходимые для построения графика кумулятивной выручки по группам."
   ]
  },
  {
   "cell_type": "code",
   "execution_count": 45,
   "metadata": {
    "scrolled": true
   },
   "outputs": [
    {
     "data": {
      "image/png": "[encoded data removed]",
      "text/plain": [
       "<Figure size 640x480 with 1 Axes>"
      ]
     },
     "metadata": {},
     "output_type": "display_data"
    }
   ],
   "source": [
    "datesGroups = orders[['date', 'group']].drop_duplicates()\n",
    "\n",
    "ordersAggregated = datesGroups.apply(\n",
    "    lambda x: orders[\n",
    "        np.logical_and(\n",
    "            orders['date'] <= x['date'], orders['group'] == x['group']\n",
    "        )\n",
    "    ].agg(\n",
    "        {\n",
    "            'date': 'max',\n",
    "            'group': 'max',\n",
    "            'transactionId': 'nunique',\n",
    "            'visitorId': 'nunique',\n",
    "            'revenue': 'sum',\n",
    "        }\n",
    "    ),\n",
    "    axis=1,\n",
    ").sort_values(by=['date', 'group'])\n",
    "\n",
    "\n",
    "visitorsAggregated = datesGroups.apply(\n",
    "    lambda x: visitors[\n",
    "        np.logical_and(\n",
    "            visitors['date'] <= x['date'], visitors['group'] == x['group']\n",
    "        )\n",
    "    ].agg({'date': 'max', 'group': 'max', 'visitors': 'sum'}),\n",
    "    axis=1,\n",
    ").sort_values(by=['date', 'group'])\n",
    "\n",
    "\n",
    "cumulativeData = ordersAggregated.merge(\n",
    "    visitorsAggregated, left_on=['date', 'group'], right_on=['date', 'group']\n",
    ")\n",
    "cumulativeData.columns = [\n",
    "    'date',\n",
    "    'group',\n",
    "    'orders',\n",
    "    'buyers',\n",
    "    'revenue',\n",
    "    'visitors',\n",
    "]\n",
    "\n",
    "\n",
    "cumulativeRevenueA = cumulativeData[cumulativeData['group']=='A'][['date','revenue','orders']]\n",
    "cumulativeRevenueB = cumulativeData[cumulativeData['group']=='B'][['date','revenue','orders']]\n",
    "\n",
    "\n",
    "plt.plot(cumulativeRevenueA['date'], cumulativeRevenueA['revenue'], label='A')\n",
    "\n",
    "\n",
    "plt.plot(cumulativeRevenueB['date'], cumulativeRevenueB['revenue'], label='B')\n",
    "\n",
    "plt.legend() \n",
    "plt.xticks(rotation=90)\n",
    "plt.title('График кумулятивной выручки по группам')\n",
    "plt.xlabel('Дата')\n",
    "plt.ylabel('Кумулятивная выручка')\n",
    "\n",
    "plt.show()"
   ]
  },
  {
   "cell_type": "markdown",
   "metadata": {},
   "source": [
    "По графику мы видим, что сначала результаты группы A и B были одинаковыми, потом с 17 по 21 августа произошёл резкий скачок и группа B вырвалась вперёд, возможно, это связано с аномально большими заказами, после чего группа B продолжила показывать более высокие результаты, чем группа A."
   ]
  },
  {
   "cell_type": "markdown",
   "metadata": {},
   "source": [
    "#### График кумулятивного среднего чека по группам"
   ]
  },
  {
   "cell_type": "code",
   "execution_count": 27,
   "metadata": {},
   "outputs": [
    {
     "data": {
      "image/png": "[encoded data removed]",
      "text/plain": [
       "<Figure size 640x480 with 1 Axes>"
      ]
     },
     "metadata": {},
     "output_type": "display_data"
    }
   ],
   "source": [
    "plt.plot(cumulativeRevenueA['date'], cumulativeRevenueA['revenue']/cumulativeRevenueA['orders'], label='A')\n",
    "plt.plot(cumulativeRevenueB['date'], cumulativeRevenueB['revenue']/cumulativeRevenueB['orders'], label='B')\n",
    "plt.legend() \n",
    "plt.xticks(rotation=90)\n",
    "plt.title('График кумулятивного среднего чека по группам')\n",
    "plt.xlabel('Дата')\n",
    "plt.ylabel('Кумулятивный средний чек')\n",
    "\n",
    "plt.show()"
   ]
  },
  {
   "cell_type": "markdown",
   "metadata": {},
   "source": [
    "Кумулятивное значение среднего чека довольно сильно колеблется в обеих группах. Резкий скачок наблюдается 21 августа в группе B, это связано с аномально дорогим заказом. Делать выводы по этому графику рано, сначала необходим дополнительный анализ выбросов."
   ]
  },
  {
   "cell_type": "markdown",
   "metadata": {},
   "source": [
    "#### График относительного изменения кумулятивного среднего чека группы B к группе A"
   ]
  },
  {
   "cell_type": "code",
   "execution_count": 28,
   "metadata": {},
   "outputs": [
    {
     "data": {
      "image/png": "[encoded data removed]",
      "text/plain": [
       "<Figure size 640x480 with 1 Axes>"
      ]
     },
     "metadata": {},
     "output_type": "display_data"
    }
   ],
   "source": [
    "mergedCumulativeRevenue = cumulativeRevenueA.merge(cumulativeRevenueB, left_on='date', right_on='date', how='left', suffixes=['A', 'B'])\n",
    "\n",
    "plt.plot(mergedCumulativeRevenue['date'], (mergedCumulativeRevenue['revenueB']/mergedCumulativeRevenue['ordersB'])/(mergedCumulativeRevenue['revenueA']/mergedCumulativeRevenue['ordersA'])-1)\n",
    "\n",
    "plt.axhline(y=0, color='black', linestyle='--') \n",
    "plt.xticks(rotation=90)\n",
    "plt.title('График относительного изменения кумулятивного среднего чека группы B к группе A')\n",
    "plt.xlabel('Дата')\n",
    "plt.ylabel('Относительное изм-ие кумул. сред. чека')\n",
    "\n",
    "plt.show()"
   ]
  },
  {
   "cell_type": "markdown",
   "metadata": {},
   "source": [
    "Группа B в основном лучше группы A по кумулятивному среднему чеку. Однако этот показатель не стабилен, на графике мы видим, что кумулятивный средний чек группы B относительно группы A резко увеличивается, а затем резко начинает снижаться. Это также может быть связано с выбросами."
   ]
  },
  {
   "cell_type": "markdown",
   "metadata": {},
   "source": [
    "#### График кумулятивного среднего количества заказов на посетителя по группам"
   ]
  },
  {
   "cell_type": "code",
   "execution_count": 29,
   "metadata": {},
   "outputs": [
    {
     "data": {
      "image/png": "[encoded data removed]",
      "text/plain": [
       "<Figure size 640x480 with 1 Axes>"
      ]
     },
     "metadata": {},
     "output_type": "display_data"
    }
   ],
   "source": [
    "cumulativeData['ratio'] = cumulativeData['orders']/cumulativeData['visitors']\n",
    "cumulativeDataA = cumulativeData[cumulativeData['group']=='A']\n",
    "\n",
    "cumulativeDataB = cumulativeData[cumulativeData['group']=='B']\n",
    "plt.plot(cumulativeDataA['date'], cumulativeDataA['ratio'], label='A')\n",
    "plt.plot(cumulativeDataB['date'], cumulativeDataB['ratio'], label='B')\n",
    "plt.legend()\n",
    "plt.axis([dt.datetime.strptime(\"2019-08-01\", '%Y-%m-%d'), dt.datetime.strptime(\"2019-08-31\", '%Y-%m-%d'), 0, 0.05])\n",
    "plt.xticks(rotation=90)\n",
    "plt.title('График кумулятивного среднего количества заказов на посетителя по группам')\n",
    "plt.xlabel('Дата')\n",
    "plt.ylabel('Кумул. сред. кол-во заказов на посетителя')\n",
    "\n",
    "plt.show()"
   ]
  },
  {
   "cell_type": "markdown",
   "metadata": {},
   "source": [
    "В начале теста группа A показала лучший результат, чем группа B. Затем сегмент B начал увеличиваться и приобрел довольно высокий и стабильный результат, при этом показатель группы A упал и держится на довольно низком уровне относительно группы B."
   ]
  },
  {
   "cell_type": "markdown",
   "metadata": {},
   "source": [
    "#### График относительного изменения кумулятивного среднего количества заказов на посетителя группы B к группе A"
   ]
  },
  {
   "cell_type": "code",
   "execution_count": 30,
   "metadata": {},
   "outputs": [
    {
     "name": "stderr",
     "output_type": "stream",
     "text": [
      "No artists with labels found to put in legend.  Note that artists whose label start with an underscore are ignored when legend() is called with no argument.\n"
     ]
    },
    {
     "data": {
      "image/png": "[encoded data removed]",
      "text/plain": [
       "<Figure size 640x480 with 1 Axes>"
      ]
     },
     "metadata": {},
     "output_type": "display_data"
    }
   ],
   "source": [
    "mergedCumulativeRatio = cumulativeDataA[['date','ratio']].merge(cumulativeDataB[['date','ratio']], left_on='date', right_on='date', how='left', suffixes=['A', 'B'])\n",
    "\n",
    "plt.plot(mergedCumulativeRatio['date'], mergedCumulativeRatio['ratioB']/mergedCumulativeRatio['ratioA']-1)\n",
    "plt.legend()\n",
    "\n",
    "plt.axhline(y=0, color='black', linestyle='--')\n",
    "plt.axhline(y=0.2, color='grey', linestyle='--')\n",
    "plt.axis([\"2019-08-01\", '2019-08-31', -0.5, 0.5])\n",
    "\n",
    "plt.xticks(rotation=90)\n",
    "plt.title('График относительного изменения кумулятивного среднего количества заказов на посетителя группы B к группе A')\n",
    "plt.xlabel('Дата')\n",
    "plt.ylabel('Относит. изм. кумул. сред. кол-ва заказов')\n",
    "\n",
    "plt.show()"
   ]
  },
  {
   "cell_type": "markdown",
   "metadata": {},
   "source": [
    "Группа B стабильно лучше группы A по кумулятивному среднему количеству заказов на посетителя. Показатель зафиксировался на уровне 15-20%."
   ]
  },
  {
   "cell_type": "markdown",
   "metadata": {},
   "source": [
    "#### Точечный график количества заказов по пользователям"
   ]
  },
  {
   "cell_type": "code",
   "execution_count": 31,
   "metadata": {},
   "outputs": [
    {
     "data": {
      "image/png": "[encoded data removed]",
      "text/plain": [
       "<Figure size 640x480 with 1 Axes>"
      ]
     },
     "metadata": {},
     "output_type": "display_data"
    }
   ],
   "source": [
    "ordersByUsers = (orders.groupby('visitorId', as_index=False).agg({'transactionId':'nunique'}))\n",
    "ordersByUsers.columns = ['userId', 'orders']\n",
    "x_values = pd.Series(range(0, len(ordersByUsers)))\n",
    "plt.scatter(x_values, ordersByUsers['orders'])\n",
    "\n",
    "plt.title('График количества заказов по пользователям')\n",
    "plt.xlabel('Количество пользователей')\n",
    "plt.ylabel('Количество заказов')\n",
    "\n",
    "plt.show()"
   ]
  },
  {
   "cell_type": "markdown",
   "metadata": {},
   "source": [
    "На графике мы видим, что большинство пользователей сделали 1-2 заказа. Только несколько пользователей сделали более 2 заказов."
   ]
  },
  {
   "cell_type": "markdown",
   "metadata": {},
   "source": [
    "#### Расчёт 95-ого и 99-ого перцентилей количества заказов на пользователя."
   ]
  },
  {
   "cell_type": "markdown",
   "metadata": {},
   "source": [
    "Посчитаем 95-й и 99-й перцентили количества заказов на пользователя. Выберем границу для определения аномальных пользователей."
   ]
  },
  {
   "cell_type": "code",
   "execution_count": 49,
   "metadata": {},
   "outputs": [
    {
     "name": "stdout",
     "output_type": "stream",
     "text": [
      "[1. 2.]\n"
     ]
    }
   ],
   "source": [
    "print(np.percentile(ordersByUsers['orders'], [95, 99]))"
   ]
  },
  {
   "cell_type": "markdown",
   "metadata": {},
   "source": [
    "Не более 5% пользователей оформляли более одного заказа, и не более 1% пользователей оформляли больше 2 заказов. На наш взгляд, оптимально будет отсеять аномальных пользователей, которые сделали более 2 заказов."
   ]
  },
  {
   "cell_type": "markdown",
   "metadata": {},
   "source": [
    "#### Точечный график стоимостей заказов"
   ]
  },
  {
   "cell_type": "code",
   "execution_count": 33,
   "metadata": {},
   "outputs": [
    {
     "data": {
      "image/png": "[encoded data removed]",
      "text/plain": [
       "<Figure size 640x480 with 1 Axes>"
      ]
     },
     "metadata": {},
     "output_type": "display_data"
    }
   ],
   "source": [
    "x_values = pd.Series(range(0,len(orders['revenue'])))\n",
    "plt.scatter(x_values, orders['revenue']) \n",
    "\n",
    "plt.title('График стоимостей заказов')\n",
    "plt.xlabel('Количество пользователей')\n",
    "plt.ylabel('Стоимость заказов')\n",
    "\n",
    "plt.show()"
   ]
  },
  {
   "cell_type": "markdown",
   "metadata": {},
   "source": [
    "Основная часть заказов имеет стоимость до 100000 рублей. Есть несколько аномально дорогих заказов, но их немного."
   ]
  },
  {
   "cell_type": "markdown",
   "metadata": {},
   "source": [
    "#### Расчёт 95-ого и 99-ого перцентилей стоимости заказов"
   ]
  },
  {
   "cell_type": "markdown",
   "metadata": {},
   "source": [
    "Посчитаем 95-й и 99-й перцентили стоимости заказов. Выберем границу для определения аномальных заказов."
   ]
  },
  {
   "cell_type": "code",
   "execution_count": 48,
   "metadata": {},
   "outputs": [
    {
     "name": "stdout",
     "output_type": "stream",
     "text": [
      "[26785. 53904.]\n"
     ]
    }
   ],
   "source": [
    "print(np.percentile(orders['revenue'], [95, 99]))"
   ]
  },
  {
   "cell_type": "markdown",
   "metadata": {},
   "source": [
    "Не более 5% заказов имеют стоимость более 27000 рублей и не более 1% заказов стоят более 54000 рублей. На наш взгляд, оптимально будет отсеять аномальные заказы, стоимостью более 54000 рублей."
   ]
  },
  {
   "cell_type": "markdown",
   "metadata": {},
   "source": [
    "#### Расчет статистической значимости различий в среднем количестве заказов на посетителя между группами по «сырым» данным"
   ]
  },
  {
   "cell_type": "markdown",
   "metadata": {},
   "source": [
    "Подготовим данные для расчёта статистической значимости различий в среднем количестве заказов на посетителя между группами по «сырым» данным. Выведем первые 5 строк, получившейся таблицы.\n",
    "Проверим нулевую гипотезу, которая звучит, как: \"Различий в среднем количестве заказов между группами A и B нет\"(по сырым данным). Альтернативная гипотеза: различия в среднем количестве заказов на посетителя между группами есть. "
   ]
  },
  {
   "cell_type": "code",
   "execution_count": 50,
   "metadata": {},
   "outputs": [
    {
     "data": {
      "text/html": [
       "<div>\n",
       "<style scoped>\n",
       "    .dataframe tbody tr th:only-of-type {\n",
       "        vertical-align: middle;\n",
       "    }\n",
       "\n",
       "    .dataframe tbody tr th {\n",
       "        vertical-align: top;\n",
       "    }\n",
       "\n",
       "    .dataframe thead th {\n",
       "        text-align: right;\n",
       "    }\n",
       "</style>\n",
       "<table border=\"1\" class=\"dataframe\">\n",
       "  <thead>\n",
       "    <tr style=\"text-align: right;\">\n",
       "      <th></th>\n",
       "      <th>date</th>\n",
       "      <th>ordersPerDateA</th>\n",
       "      <th>revenuePerDateA</th>\n",
       "      <th>ordersPerDateB</th>\n",
       "      <th>revenuePerDateB</th>\n",
       "      <th>ordersCummulativeA</th>\n",
       "      <th>revenueCummulativeA</th>\n",
       "      <th>ordersCummulativeB</th>\n",
       "      <th>revenueCummulativeB</th>\n",
       "      <th>visitorsPerDateA</th>\n",
       "      <th>visitorsPerDateB</th>\n",
       "      <th>visitorsCummulativeA</th>\n",
       "      <th>visitorsCummulativeB</th>\n",
       "    </tr>\n",
       "  </thead>\n",
       "  <tbody>\n",
       "    <tr>\n",
       "      <th>0</th>\n",
       "      <td>2019-08-01</td>\n",
       "      <td>23</td>\n",
       "      <td>142779</td>\n",
       "      <td>17</td>\n",
       "      <td>59758</td>\n",
       "      <td>23</td>\n",
       "      <td>142779</td>\n",
       "      <td>17</td>\n",
       "      <td>59758</td>\n",
       "      <td>719</td>\n",
       "      <td>713</td>\n",
       "      <td>719</td>\n",
       "      <td>713</td>\n",
       "    </tr>\n",
       "    <tr>\n",
       "      <th>1</th>\n",
       "      <td>2019-08-02</td>\n",
       "      <td>19</td>\n",
       "      <td>91602</td>\n",
       "      <td>23</td>\n",
       "      <td>162043</td>\n",
       "      <td>42</td>\n",
       "      <td>234381</td>\n",
       "      <td>40</td>\n",
       "      <td>221801</td>\n",
       "      <td>619</td>\n",
       "      <td>581</td>\n",
       "      <td>1338</td>\n",
       "      <td>1294</td>\n",
       "    </tr>\n",
       "    <tr>\n",
       "      <th>2</th>\n",
       "      <td>2019-08-03</td>\n",
       "      <td>24</td>\n",
       "      <td>112473</td>\n",
       "      <td>14</td>\n",
       "      <td>67049</td>\n",
       "      <td>66</td>\n",
       "      <td>346854</td>\n",
       "      <td>54</td>\n",
       "      <td>288850</td>\n",
       "      <td>507</td>\n",
       "      <td>509</td>\n",
       "      <td>1845</td>\n",
       "      <td>1803</td>\n",
       "    </tr>\n",
       "    <tr>\n",
       "      <th>3</th>\n",
       "      <td>2019-08-04</td>\n",
       "      <td>11</td>\n",
       "      <td>41176</td>\n",
       "      <td>14</td>\n",
       "      <td>96890</td>\n",
       "      <td>77</td>\n",
       "      <td>388030</td>\n",
       "      <td>68</td>\n",
       "      <td>385740</td>\n",
       "      <td>717</td>\n",
       "      <td>770</td>\n",
       "      <td>2562</td>\n",
       "      <td>2573</td>\n",
       "    </tr>\n",
       "    <tr>\n",
       "      <th>4</th>\n",
       "      <td>2019-08-05</td>\n",
       "      <td>22</td>\n",
       "      <td>86383</td>\n",
       "      <td>21</td>\n",
       "      <td>89908</td>\n",
       "      <td>99</td>\n",
       "      <td>474413</td>\n",
       "      <td>89</td>\n",
       "      <td>475648</td>\n",
       "      <td>756</td>\n",
       "      <td>707</td>\n",
       "      <td>3318</td>\n",
       "      <td>3280</td>\n",
       "    </tr>\n",
       "  </tbody>\n",
       "</table>\n",
       "</div>"
      ],
      "text/plain": [
       "        date  ordersPerDateA  revenuePerDateA  ordersPerDateB  \\\n",
       "0 2019-08-01              23           142779              17   \n",
       "1 2019-08-02              19            91602              23   \n",
       "2 2019-08-03              24           112473              14   \n",
       "3 2019-08-04              11            41176              14   \n",
       "4 2019-08-05              22            86383              21   \n",
       "\n",
       "   revenuePerDateB  ordersCummulativeA  revenueCummulativeA  \\\n",
       "0            59758                  23               142779   \n",
       "1           162043                  42               234381   \n",
       "2            67049                  66               346854   \n",
       "3            96890                  77               388030   \n",
       "4            89908                  99               474413   \n",
       "\n",
       "   ordersCummulativeB  revenueCummulativeB  visitorsPerDateA  \\\n",
       "0                  17                59758               719   \n",
       "1                  40               221801               619   \n",
       "2                  54               288850               507   \n",
       "3                  68               385740               717   \n",
       "4                  89               475648               756   \n",
       "\n",
       "   visitorsPerDateB  visitorsCummulativeA  visitorsCummulativeB  \n",
       "0               713                   719                   713  \n",
       "1               581                  1338                  1294  \n",
       "2               509                  1845                  1803  \n",
       "3               770                  2562                  2573  \n",
       "4               707                  3318                  3280  "
      ]
     },
     "execution_count": 50,
     "metadata": {},
     "output_type": "execute_result"
    }
   ],
   "source": [
    "visitorsADaily = visitors[visitors['group'] == 'A'][['date', 'visitors']]\n",
    "visitorsADaily.columns = ['date', 'visitorsPerDateA']\n",
    "\n",
    "visitorsACummulative = visitorsADaily.apply(\n",
    "    lambda x: visitorsADaily[visitorsADaily['date'] <= x['date']].agg(\n",
    "        {'date': 'max', 'visitorsPerDateA': 'sum'}\n",
    "    ),\n",
    "    axis=1,\n",
    ")\n",
    "visitorsACummulative.columns = ['date', 'visitorsCummulativeA']\n",
    "\n",
    "visitorsBDaily = visitors[visitors['group'] == 'B'][['date', 'visitors']]\n",
    "visitorsBDaily.columns = ['date', 'visitorsPerDateB']\n",
    "\n",
    "visitorsBCummulative = visitorsBDaily.apply(\n",
    "    lambda x: visitorsBDaily[visitorsBDaily['date'] <= x['date']].agg(\n",
    "        {'date': 'max', 'visitorsPerDateB': 'sum'}\n",
    "    ),\n",
    "    axis=1,\n",
    ")\n",
    "visitorsBCummulative.columns = ['date', 'visitorsCummulativeB']\n",
    "\n",
    "ordersADaily = (\n",
    "    orders[orders['group'] == 'A'][['date', 'transactionId', 'visitorId', 'revenue']]\n",
    "    .groupby('date', as_index=False)\n",
    "    .agg({'transactionId': pd.Series.nunique, 'revenue': 'sum'})\n",
    ")\n",
    "ordersADaily.columns = ['date', 'ordersPerDateA', 'revenuePerDateA']\n",
    "\n",
    "ordersACummulative = ordersADaily.apply(\n",
    "    lambda x: ordersADaily[ordersADaily['date'] <= x['date']].agg(\n",
    "        {'date': 'max', 'ordersPerDateA': 'sum', 'revenuePerDateA': 'sum'}\n",
    "    ),\n",
    "    axis=1,\n",
    ").sort_values(by=['date'])\n",
    "ordersACummulative.columns = [\n",
    "    'date',\n",
    "    'ordersCummulativeA',\n",
    "    'revenueCummulativeA',\n",
    "]\n",
    "\n",
    "ordersBDaily = (\n",
    "    orders[orders['group'] == 'B'][['date', 'transactionId', 'visitorId', 'revenue']]\n",
    "    .groupby('date', as_index=False)\n",
    "    .agg({'transactionId': pd.Series.nunique, 'revenue': 'sum'})\n",
    ")\n",
    "ordersBDaily.columns = ['date', 'ordersPerDateB', 'revenuePerDateB']\n",
    "\n",
    "ordersBCummulative = ordersBDaily.apply(\n",
    "    lambda x: ordersBDaily[ordersBDaily['date'] <= x['date']].agg(\n",
    "        {'date': 'max', 'ordersPerDateB': 'sum', 'revenuePerDateB': 'sum'}\n",
    "    ),\n",
    "    axis=1,\n",
    ").sort_values(by=['date'])\n",
    "ordersBCummulative.columns = [\n",
    "    'date',\n",
    "    'ordersCummulativeB',\n",
    "    'revenueCummulativeB',\n",
    "]\n",
    "\n",
    "data = (\n",
    "    ordersADaily.merge(\n",
    "        ordersBDaily, left_on='date', right_on='date', how='left'\n",
    "    )\n",
    "    .merge(ordersACummulative, left_on='date', right_on='date', how='left')\n",
    "    .merge(ordersBCummulative, left_on='date', right_on='date', how='left')\n",
    "    .merge(visitorsADaily, left_on='date', right_on='date', how='left')\n",
    "    .merge(visitorsBDaily, left_on='date', right_on='date', how='left')\n",
    "    .merge(visitorsACummulative, left_on='date', right_on='date', how='left')\n",
    "    .merge(visitorsBCummulative, left_on='date', right_on='date', how='left')\n",
    ")\n",
    "\n",
    "data.head()"
   ]
  },
  {
   "cell_type": "code",
   "execution_count": 36,
   "metadata": {},
   "outputs": [
    {
     "name": "stdout",
     "output_type": "stream",
     "text": [
      "0.01102\n",
      "0.160\n"
     ]
    }
   ],
   "source": [
    "ordersByUsersA = (\n",
    "    orders[orders['group'] == 'A']\n",
    "    .groupby('visitorId', as_index=False)\n",
    "    .agg({'transactionId': pd.Series.nunique})\n",
    ")\n",
    "ordersByUsersA.columns = ['visitorId', 'orders']\n",
    "\n",
    "ordersByUsersB = (\n",
    "    orders[orders['group'] == 'B']\n",
    "    .groupby('visitorId', as_index=False)\n",
    "    .agg({'transactionId': pd.Series.nunique})\n",
    ")\n",
    "ordersByUsersB.columns = ['visitorId', 'orders'] \n",
    "\n",
    "\n",
    "pd.Series(0, index=np.arange(data['visitorsPerDateA'].sum() - len(ordersByUsersA['orders'])), name='orders')\n",
    "\n",
    "sampleA = pd.concat([ordersByUsersA['orders'],pd.Series(\n",
    "              0, index=np.arange(data['visitorsPerDateA'].sum() - len(ordersByUsersA['orders'])), \n",
    "              name='orders')],axis=0)\n",
    "sampleB = pd.concat([ordersByUsersB['orders'],pd.Series(\n",
    "              0, index=np.arange(data['visitorsPerDateB'].sum() - len(ordersByUsersB['orders'])), \n",
    "              name='orders')],axis=0)\n",
    "\n",
    "print(\"{0:.5f}\".format(stats.mannwhitneyu(sampleA, sampleB)[1]))\n",
    "print(\"{0:.3f}\".format((data['ordersPerDateB'].sum()/data['visitorsPerDateB'].sum())/(data['ordersPerDateA'].sum()/data['visitorsPerDateA'].sum())-1))"
   ]
  },
  {
   "cell_type": "markdown",
   "metadata": {},
   "source": [
    "P-value 0.01, это значительно меньше 0.05,следовательно нулевую гипотезу необходимо отвергнуть. Анализ \"сырых данных\" показал, что в среднем количестве заказов между группами есть статистически значимые различия. Относительный прирост среднего группы B к среднему группы A составляет 16%."
   ]
  },
  {
   "cell_type": "markdown",
   "metadata": {},
   "source": [
    "#### Расчёт статистической значимости различий в среднем чеке заказа между группами по «сырым» данным"
   ]
  },
  {
   "cell_type": "markdown",
   "metadata": {},
   "source": [
    "Теперь проверим нулевую гипотезу, которая звучит так: \"Различий в среднем чеке заказа между группами A и B нет\"(по сырым данным). Альтернативная гипотеза: различия в среднем чеке между группами есть. "
   ]
  },
  {
   "cell_type": "code",
   "execution_count": 37,
   "metadata": {},
   "outputs": [
    {
     "name": "stdout",
     "output_type": "stream",
     "text": [
      "0.829\n",
      "0.287\n"
     ]
    }
   ],
   "source": [
    "print('{0:.3f}'.format(stats.mannwhitneyu(orders[orders['group']=='A']['revenue'], \n",
    "                                          orders[orders['group']=='B']['revenue'])[1]))\n",
    "print('{0:.3f}'.format(orders[orders['group']=='B']['revenue'].\n",
    "                       mean()/orders[orders['group']=='A']\n",
    "                       ['revenue'].mean()-1)) "
   ]
  },
  {
   "cell_type": "markdown",
   "metadata": {},
   "source": [
    "P-value составляет 0.8, это значительно больше 0.05, следовательно мы не отвергаем нулевую гипотезу, то есть различий между средним чеком заказа нет. Однако относительное различие среднего чека между группами очень большое, оно составляет 28%. Скорее всего, это связано с несколькими аномально дорогими заказами, которые мы вычислили с помощью 99-ого перцинтиля."
   ]
  },
  {
   "cell_type": "markdown",
   "metadata": {},
   "source": [
    "####  Расчёт статистической значимости различий в среднем количестве заказов на посетителя между группами по «очищенным» данным."
   ]
  },
  {
   "cell_type": "code",
   "execution_count": 51,
   "metadata": {},
   "outputs": [
    {
     "data": {
      "text/plain": [
       "16"
      ]
     },
     "execution_count": 51,
     "metadata": {},
     "output_type": "execute_result"
    }
   ],
   "source": [
    "usersWithManyOrders = pd.concat(\n",
    "    [\n",
    "        ordersByUsersA[ordersByUsersA['orders'] > 2]['visitorId'],\n",
    "        ordersByUsersB[ordersByUsersB['orders'] > 2]['visitorId'],\n",
    "    ],\n",
    "    axis=0,\n",
    ")\n",
    "usersWithExpensiveOrders = orders[orders['revenue'] > 54000]['visitorId']\n",
    "abnormalUsers = (\n",
    "    pd.concat([usersWithManyOrders, usersWithExpensiveOrders], axis=0)\n",
    "    .drop_duplicates()\n",
    "    .sort_values()\n",
    ")\n",
    "abnormalUsers.head()\n",
    "abnormalUsers.shape[0]"
   ]
  },
  {
   "cell_type": "markdown",
   "metadata": {},
   "source": [
    "Всего 16 аномальных пользователей. Узнаем, как их действия повлияли на результаты теста. Посчитаем статистическую значимость различий в среднем количестве заказов между группами теста по очищенным данным. Сначала подготовим выборки количества заказов по пользователям по группам теста"
   ]
  },
  {
   "cell_type": "code",
   "execution_count": 52,
   "metadata": {},
   "outputs": [
    {
     "name": "stdout",
     "output_type": "stream",
     "text": [
      "0.007\n",
      "0.189\n"
     ]
    }
   ],
   "source": [
    "sampleAFiltered = pd.concat(\n",
    "    [\n",
    "        ordersByUsersA[\n",
    "            np.logical_not(ordersByUsersA['visitorId'].isin(abnormalUsers))\n",
    "        ]['orders'],\n",
    "        pd.Series(\n",
    "            0,\n",
    "            index=np.arange(\n",
    "                data['visitorsPerDateA'].sum() - len(ordersByUsersA['orders'])\n",
    "            ),\n",
    "            name='orders',\n",
    "        ),\n",
    "    ],\n",
    "    axis=0,\n",
    ")\n",
    "\n",
    "sampleBFiltered = pd.concat(\n",
    "    [\n",
    "        ordersByUsersB[\n",
    "            np.logical_not(ordersByUsersB['visitorId'].isin(abnormalUsers))\n",
    "        ]['orders'],\n",
    "        pd.Series(\n",
    "            0,\n",
    "            index=np.arange(\n",
    "                data['visitorsPerDateB'].sum() - len(ordersByUsersB['orders'])\n",
    "            ),\n",
    "            name='orders',\n",
    "        ),\n",
    "    ],\n",
    "    axis=0,\n",
    ")\n",
    "\n",
    "\n",
    "print('{0:.3f}'.format(stats.mannwhitneyu(sampleAFiltered, sampleBFiltered)[1]))\n",
    "print('{0:.3f}'.format(sampleBFiltered.mean()/sampleAFiltered.mean()-1))"
   ]
  },
  {
   "cell_type": "markdown",
   "metadata": {},
   "source": [
    "P-value в \"очищенных данных\" составляет 0.007, что значительно меньше 0.05, следовательно, как и в \"сырых данных\" мы отвергаем нулевую гипотезу, то есть в среднем количестве заказов между группами есть статистически значимые различия. Относительный прирост среднего группы B к среднему группы A в \"очищенных данных\" составляет 19%."
   ]
  },
  {
   "cell_type": "markdown",
   "metadata": {},
   "source": [
    "#### Расчёт статистической значимости различий в среднем чеке заказа между группами по «очищенным» данным"
   ]
  },
  {
   "cell_type": "code",
   "execution_count": 40,
   "metadata": {},
   "outputs": [
    {
     "name": "stdout",
     "output_type": "stream",
     "text": [
      "0.788\n",
      "-0.032\n"
     ]
    }
   ],
   "source": [
    "print(\n",
    "    '{0:.3f}'.format(\n",
    "        stats.mannwhitneyu(\n",
    "            orders[\n",
    "                np.logical_and(\n",
    "                    orders['group'] == 'A',\n",
    "                    np.logical_not(orders['visitorId'].isin(abnormalUsers)),\n",
    "                )\n",
    "            ]['revenue'],\n",
    "            orders[\n",
    "                np.logical_and(\n",
    "                    orders['group'] == 'B',\n",
    "                    np.logical_not(orders['visitorId'].isin(abnormalUsers)),\n",
    "                )\n",
    "            ]['revenue'],\n",
    "        )[1]\n",
    "    )\n",
    ")\n",
    "\n",
    "print(\n",
    "    \"{0:.3f}\".format(\n",
    "        orders[\n",
    "            np.logical_and(\n",
    "                orders['group'] == 'B',\n",
    "                np.logical_not(orders['visitorId'].isin(abnormalUsers)),\n",
    "            )\n",
    "        ]['revenue'].mean()\n",
    "        / orders[\n",
    "            np.logical_and(\n",
    "                orders['group'] == 'A',\n",
    "                np.logical_not(orders['visitorId'].isin(abnormalUsers)),\n",
    "            )\n",
    "        ]['revenue'].mean()- 1\n",
    "    )\n",
    ")"
   ]
  },
  {
   "cell_type": "markdown",
   "metadata": {},
   "source": [
    "P-value в \"очищенных данных\" почти не изменилось, было 0.8, стало 0.78. Относительное различие среднего чека между группами значительно сократилось, оно составляло 28% в пользу группы B, сейчас оно составляет 3% в пользу группы A. Это значит, что аномалии очень сильно повлияли на резултат относительного различия среднего чека между сегментами."
   ]
  },
  {
   "cell_type": "markdown",
   "metadata": {},
   "source": [
    "### Общий вывод"
   ]
  },
  {
   "cell_type": "markdown",
   "metadata": {},
   "source": [
    "В данном проекте мы работали с результатами A/B-теста с целью увеличения выручки для крупного интернет-магазина. Наша задача заключалась в приоритизации гипотез и анализе результатов A/B-теста.\n",
    "\n",
    "На этапе предобработки мы подготовили данные для анализа, а именно изменили типы данных в тех столбцах, где типы данных не соответствовали представленным в них значениям, привели названия столбцов к нижнему регистру, проверили данные на наличие пропусков и дубликатов.\n",
    "\n",
    "После этого мы приоритизирвали гипотезы с помощью фреймворков ICE и RICE. При применении RICE приоритация гипотез изменилась, так как при ICE наиболее перспективными были гипотезы 8,0,7,6, а при RICE наиболее перспективными являются 7, 2, 0, 6. Изменился порядок приоритизации, только гипотезы 0 и 6 вошли в оба фреймворка. Так произошло, потому что при расчёте с помощью фреймворка RICE был задействован ещё один важный показатель - Reach, который показывает, скольких пользователей затронет изменение, которое мы хотим внести. \n",
    "\n",
    "Перед тем, как начать анализ A/B-теста мы выявили, что в результатах теста насчитывается 58 пользователей (что составляет 5.63%), которые попали в обе группы, и 1031 уникальный пользователь. Мы удалили пользователей, которые попали в обе группы, чтобы в дальнейшем это не исказило анализ результатов A/B-теста.\n",
    "\n",
    "Далее мы провели анализ результатов A/B-теста и пришли к следующим выводам:\n",
    "\n",
    "1. На графике кумулятивной выручки мы выявили, что в основном группа B показывала более высокие результаты, чем группа A.\n",
    "\n",
    "\n",
    "2. Кумулятивное значение среднего чека довольно сильно колеблется в обеих группах. Возможно, это связано с аномально дорогими заказами. Делать выводы по этому графику рано, сначала необходим дополнительный анализ выбросов.\n",
    "\n",
    "\n",
    "3. График относительного изменения кумулятивного среднего чека группы B к группе A показал, что Группа B в основном лучше группы A.Однако этот показатель не стабилен, на графике мы видим, что кумулятивный средний чек группы B относительно группы A резко увеличивается, а затем резко начинает снижаться. Это также может быть связано с выбросами.\n",
    "\n",
    "\n",
    "4. График кумулятивного среднего количества заказов на посетителя по группам показал, что сегмент B постепенно приобрел довольно высокий и стабильный результат, при этом показатель группы A упал и держится на довольно низком уровне относительно группы B.\n",
    "\n",
    "\n",
    "5. График относительного изменения кумулятивного среднего количества заказов на посетителя группы B к группе A показал, что группа B стабильно лучше группы A по кумулятивному среднему количеству заказов на посетителя. Показатель зафиксировался на уровне 15-20%.\n",
    "\n",
    "\n",
    "6. С помощью точечных графиков и расчёта перцентилей мы выявили, что не более 5% пользователей оформляли более одного заказа, и не более 1% пользователей оформляли больше 2 заказов. На наш взгляд, оптимально будет отсеять аномальных пользователей, которые сделали более 2 заказов. Также мы выявили, что не более 5% заказов имеют стоимость более 27000 рублей и не более 1% заказов стоят более 54000 рублей. На наш взгляд, оптимально будет отсеять аномальные заказы, стоимостью более 54000 рублей.\n",
    "\n",
    "\n",
    "7. Расчёт статистической значимости различий в среднем количестве заказов на посетителя между группами по \"сырым\" и \"очищенным\" данным показал похожие результаты. P-value оказалось значительно меньше 0.05 (0.01 и 0.007 соответсвенно), что позволило нам отвергуть нулевую гипотезу, то есть в среднем количестве заказов между группами есть статистически значимые различия. Относительный прирост среднего группы B к среднему группы A в \"очищенных\" данных составил 19%.\n",
    "\n",
    "\n",
    "8. В расчёте статистической значимости различий в среднем чеке заказа между группами по «сырым» и \"очищенным\" данным были выявлены некие различия. P-value в \"очищенных данных\" почти не изменилось, было 0.8, стало 0.78, таким образом, мы не отвергли нулевую гипотезу, то есть различий между средним чеком заказа нет. Относительное различие среднего чека между группами значительно сократилось, оно составляло 28% в пользу группы B, сейчас оно составляет 3% в пользу группы A. Это значит, что аномалии очень сильно повлияли на результат относительного различия среднего чека между сегментами.\n",
    "\n",
    "По итогам исследования мы приняли решение об остановке A/B-теста. На графиках мы увидели, что группа B превзошла группу A по многим показателям.\n",
    "Мы приняли решение об остановке теста с победой группы B. Тест идёт уже месяц и собранных данных достаточно для формирования стратегии по увеличению выручки. \n",
    "\n",
    "Таким образом, мы рекомендуем добавить форму подписки на все основные страницы, чтобы собрать базу клиентов для email-рассылок и добавить два новых канала привлечения трафика, что позволит привлекать на 30% больше пользователей. Эти два решения помогут увеличить прибыль компании."
   ]
  }
 ],
 "metadata": {
  "ExecuteTimeLog": [
   {
    "duration": 795,
    "start_time": "2023-04-08T10:46:14.258Z"
   },
   {
    "duration": 3,
    "start_time": "2023-04-08T10:48:10.196Z"
   },
   {
    "duration": 224,
    "start_time": "2023-04-08T10:49:45.202Z"
   },
   {
    "duration": 13,
    "start_time": "2023-04-08T10:50:46.456Z"
   },
   {
    "duration": 9,
    "start_time": "2023-04-08T10:50:59.182Z"
   },
   {
    "duration": 11,
    "start_time": "2023-04-08T10:51:15.946Z"
   },
   {
    "duration": 10,
    "start_time": "2023-04-08T10:51:32.204Z"
   },
   {
    "duration": 11,
    "start_time": "2023-04-08T10:51:47.483Z"
   },
   {
    "duration": 7,
    "start_time": "2023-04-08T10:52:07.584Z"
   },
   {
    "duration": 12,
    "start_time": "2023-04-08T10:52:17.616Z"
   },
   {
    "duration": 7,
    "start_time": "2023-04-08T10:55:53.443Z"
   },
   {
    "duration": 13,
    "start_time": "2023-04-08T10:56:22.617Z"
   },
   {
    "duration": 9,
    "start_time": "2023-04-08T10:56:36.855Z"
   },
   {
    "duration": 7,
    "start_time": "2023-04-08T10:58:13.986Z"
   },
   {
    "duration": 6,
    "start_time": "2023-04-08T10:58:24.222Z"
   },
   {
    "duration": 6,
    "start_time": "2023-04-08T10:59:13.108Z"
   },
   {
    "duration": 5,
    "start_time": "2023-04-08T10:59:32.518Z"
   },
   {
    "duration": 4,
    "start_time": "2023-04-08T10:59:49.197Z"
   },
   {
    "duration": 4,
    "start_time": "2023-04-08T11:01:49.079Z"
   },
   {
    "duration": 3,
    "start_time": "2023-04-08T11:02:18.893Z"
   },
   {
    "duration": 4,
    "start_time": "2023-04-08T11:02:33.841Z"
   },
   {
    "duration": 4,
    "start_time": "2023-04-08T11:02:46.704Z"
   },
   {
    "duration": 4,
    "start_time": "2023-04-08T11:03:52.801Z"
   },
   {
    "duration": 4,
    "start_time": "2023-04-08T11:04:15.945Z"
   },
   {
    "duration": 612,
    "start_time": "2023-04-08T11:04:32.023Z"
   },
   {
    "duration": 74,
    "start_time": "2023-04-08T11:04:32.637Z"
   },
   {
    "duration": 14,
    "start_time": "2023-04-08T11:04:32.713Z"
   },
   {
    "duration": 17,
    "start_time": "2023-04-08T11:04:32.729Z"
   },
   {
    "duration": 19,
    "start_time": "2023-04-08T11:04:32.749Z"
   },
   {
    "duration": 33,
    "start_time": "2023-04-08T11:04:32.770Z"
   },
   {
    "duration": 19,
    "start_time": "2023-04-08T11:04:32.805Z"
   },
   {
    "duration": 21,
    "start_time": "2023-04-08T11:04:32.826Z"
   },
   {
    "duration": 36,
    "start_time": "2023-04-08T11:04:32.848Z"
   },
   {
    "duration": 38,
    "start_time": "2023-04-08T11:04:32.886Z"
   },
   {
    "duration": 19,
    "start_time": "2023-04-08T11:04:32.926Z"
   },
   {
    "duration": 32,
    "start_time": "2023-04-08T11:04:32.947Z"
   },
   {
    "duration": 22,
    "start_time": "2023-04-08T11:04:32.981Z"
   },
   {
    "duration": 16,
    "start_time": "2023-04-08T11:04:33.006Z"
   },
   {
    "duration": 27,
    "start_time": "2023-04-08T11:04:33.024Z"
   },
   {
    "duration": 44,
    "start_time": "2023-04-08T11:04:33.053Z"
   },
   {
    "duration": 18,
    "start_time": "2023-04-08T11:04:33.099Z"
   },
   {
    "duration": 20,
    "start_time": "2023-04-08T11:04:33.118Z"
   },
   {
    "duration": 11,
    "start_time": "2023-04-08T11:04:33.140Z"
   },
   {
    "duration": 8,
    "start_time": "2023-04-08T11:04:33.153Z"
   },
   {
    "duration": 6,
    "start_time": "2023-04-08T11:04:57.560Z"
   },
   {
    "duration": 9,
    "start_time": "2023-04-08T11:05:02.162Z"
   },
   {
    "duration": 4,
    "start_time": "2023-04-08T11:06:36.222Z"
   },
   {
    "duration": 75,
    "start_time": "2023-04-08T11:14:48.173Z"
   },
   {
    "duration": 9,
    "start_time": "2023-04-08T11:14:50.131Z"
   },
   {
    "duration": 10,
    "start_time": "2023-04-08T11:14:54.105Z"
   },
   {
    "duration": 8,
    "start_time": "2023-04-08T11:18:49.997Z"
   },
   {
    "duration": 8,
    "start_time": "2023-04-08T11:21:00.373Z"
   },
   {
    "duration": 630,
    "start_time": "2023-04-08T11:21:07.774Z"
   },
   {
    "duration": 73,
    "start_time": "2023-04-08T11:21:08.407Z"
   },
   {
    "duration": 12,
    "start_time": "2023-04-08T11:21:08.482Z"
   },
   {
    "duration": 14,
    "start_time": "2023-04-08T11:21:08.496Z"
   },
   {
    "duration": 13,
    "start_time": "2023-04-08T11:21:08.513Z"
   },
   {
    "duration": 16,
    "start_time": "2023-04-08T11:21:08.528Z"
   },
   {
    "duration": 11,
    "start_time": "2023-04-08T11:21:08.546Z"
   },
   {
    "duration": 32,
    "start_time": "2023-04-08T11:21:08.558Z"
   },
   {
    "duration": 8,
    "start_time": "2023-04-08T11:21:08.592Z"
   },
   {
    "duration": 31,
    "start_time": "2023-04-08T11:21:08.602Z"
   },
   {
    "duration": 14,
    "start_time": "2023-04-08T11:21:08.634Z"
   },
   {
    "duration": 9,
    "start_time": "2023-04-08T11:21:08.649Z"
   },
   {
    "duration": 9,
    "start_time": "2023-04-08T11:21:08.660Z"
   },
   {
    "duration": 10,
    "start_time": "2023-04-08T11:21:08.672Z"
   },
   {
    "duration": 9,
    "start_time": "2023-04-08T11:21:08.684Z"
   },
   {
    "duration": 10,
    "start_time": "2023-04-08T11:21:08.695Z"
   },
   {
    "duration": 12,
    "start_time": "2023-04-08T11:21:08.706Z"
   },
   {
    "duration": 9,
    "start_time": "2023-04-08T11:21:08.720Z"
   },
   {
    "duration": 11,
    "start_time": "2023-04-08T11:21:08.730Z"
   },
   {
    "duration": 8,
    "start_time": "2023-04-08T11:21:08.743Z"
   },
   {
    "duration": 15,
    "start_time": "2023-04-08T11:21:08.753Z"
   },
   {
    "duration": 13,
    "start_time": "2023-04-08T11:21:08.770Z"
   },
   {
    "duration": 9,
    "start_time": "2023-04-08T11:21:53.428Z"
   },
   {
    "duration": 12,
    "start_time": "2023-04-08T11:23:29.263Z"
   },
   {
    "duration": 67,
    "start_time": "2023-04-08T15:45:30.786Z"
   },
   {
    "duration": 1116,
    "start_time": "2023-04-08T15:45:43.120Z"
   },
   {
    "duration": 509,
    "start_time": "2023-04-08T15:45:44.240Z"
   },
   {
    "duration": 30,
    "start_time": "2023-04-08T15:45:44.763Z"
   },
   {
    "duration": 31,
    "start_time": "2023-04-08T15:45:44.801Z"
   },
   {
    "duration": 31,
    "start_time": "2023-04-08T15:45:44.834Z"
   },
   {
    "duration": 38,
    "start_time": "2023-04-08T15:45:44.873Z"
   },
   {
    "duration": 14,
    "start_time": "2023-04-08T15:45:44.919Z"
   },
   {
    "duration": 19,
    "start_time": "2023-04-08T15:45:44.939Z"
   },
   {
    "duration": 8,
    "start_time": "2023-04-08T15:45:44.961Z"
   },
   {
    "duration": 18,
    "start_time": "2023-04-08T15:45:44.978Z"
   },
   {
    "duration": 20,
    "start_time": "2023-04-08T15:45:45.005Z"
   },
   {
    "duration": 16,
    "start_time": "2023-04-08T15:45:45.032Z"
   },
   {
    "duration": 45,
    "start_time": "2023-04-08T15:45:45.059Z"
   },
   {
    "duration": 8,
    "start_time": "2023-04-08T15:45:45.109Z"
   },
   {
    "duration": 30,
    "start_time": "2023-04-08T15:45:45.121Z"
   },
   {
    "duration": 7,
    "start_time": "2023-04-08T15:45:45.153Z"
   },
   {
    "duration": 8,
    "start_time": "2023-04-08T15:45:45.163Z"
   },
   {
    "duration": 33,
    "start_time": "2023-04-08T15:45:45.173Z"
   },
   {
    "duration": 10,
    "start_time": "2023-04-08T15:45:45.219Z"
   },
   {
    "duration": 6,
    "start_time": "2023-04-08T15:45:45.231Z"
   },
   {
    "duration": 12,
    "start_time": "2023-04-08T15:45:45.239Z"
   },
   {
    "duration": 10,
    "start_time": "2023-04-08T15:45:45.253Z"
   },
   {
    "duration": 14,
    "start_time": "2023-04-08T15:45:45.266Z"
   },
   {
    "duration": 16,
    "start_time": "2023-04-08T15:45:45.284Z"
   },
   {
    "duration": 12,
    "start_time": "2023-04-08T15:45:50.119Z"
   },
   {
    "duration": 146,
    "start_time": "2023-04-08T15:46:04.066Z"
   },
   {
    "duration": 9,
    "start_time": "2023-04-08T15:54:33.453Z"
   },
   {
    "duration": 654,
    "start_time": "2023-04-08T15:58:24.200Z"
   },
   {
    "duration": 3,
    "start_time": "2023-04-08T15:58:24.856Z"
   },
   {
    "duration": 122,
    "start_time": "2023-04-08T15:58:24.860Z"
   },
   {
    "duration": 22,
    "start_time": "2023-04-08T15:58:24.986Z"
   },
   {
    "duration": 15,
    "start_time": "2023-04-08T15:58:25.011Z"
   },
   {
    "duration": 12,
    "start_time": "2023-04-08T15:58:25.028Z"
   },
   {
    "duration": 10,
    "start_time": "2023-04-08T15:58:25.044Z"
   },
   {
    "duration": 9,
    "start_time": "2023-04-08T15:58:25.055Z"
   },
   {
    "duration": 32,
    "start_time": "2023-04-08T15:58:25.065Z"
   },
   {
    "duration": 12,
    "start_time": "2023-04-08T15:58:25.099Z"
   },
   {
    "duration": 21,
    "start_time": "2023-04-08T15:58:25.113Z"
   },
   {
    "duration": 13,
    "start_time": "2023-04-08T15:58:25.136Z"
   },
   {
    "duration": 4,
    "start_time": "2023-04-08T15:58:25.150Z"
   },
   {
    "duration": 4,
    "start_time": "2023-04-08T15:58:25.157Z"
   },
   {
    "duration": 26,
    "start_time": "2023-04-08T15:58:25.163Z"
   },
   {
    "duration": 7,
    "start_time": "2023-04-08T15:58:25.194Z"
   },
   {
    "duration": 14,
    "start_time": "2023-04-08T15:58:25.202Z"
   },
   {
    "duration": 6,
    "start_time": "2023-04-08T15:58:25.218Z"
   },
   {
    "duration": 14,
    "start_time": "2023-04-08T15:58:25.226Z"
   },
   {
    "duration": 4,
    "start_time": "2023-04-08T15:58:25.242Z"
   },
   {
    "duration": 6,
    "start_time": "2023-04-08T15:58:25.247Z"
   },
   {
    "duration": 13,
    "start_time": "2023-04-08T15:58:25.254Z"
   },
   {
    "duration": 23,
    "start_time": "2023-04-08T15:58:25.274Z"
   },
   {
    "duration": 11,
    "start_time": "2023-04-08T15:58:25.299Z"
   },
   {
    "duration": 9,
    "start_time": "2023-04-08T15:59:18.257Z"
   },
   {
    "duration": 921,
    "start_time": "2023-04-08T15:59:46.824Z"
   },
   {
    "duration": 164,
    "start_time": "2023-04-08T15:59:47.747Z"
   },
   {
    "duration": 24,
    "start_time": "2023-04-08T15:59:47.918Z"
   },
   {
    "duration": 11,
    "start_time": "2023-04-08T15:59:47.947Z"
   },
   {
    "duration": 25,
    "start_time": "2023-04-08T15:59:47.960Z"
   },
   {
    "duration": 14,
    "start_time": "2023-04-08T15:59:47.994Z"
   },
   {
    "duration": 11,
    "start_time": "2023-04-08T15:59:48.010Z"
   },
   {
    "duration": 12,
    "start_time": "2023-04-08T15:59:48.022Z"
   },
   {
    "duration": 6,
    "start_time": "2023-04-08T15:59:48.036Z"
   },
   {
    "duration": 12,
    "start_time": "2023-04-08T15:59:48.044Z"
   },
   {
    "duration": 10,
    "start_time": "2023-04-08T15:59:48.058Z"
   },
   {
    "duration": 7,
    "start_time": "2023-04-08T15:59:48.070Z"
   },
   {
    "duration": 21,
    "start_time": "2023-04-08T15:59:48.079Z"
   },
   {
    "duration": 10,
    "start_time": "2023-04-08T15:59:48.106Z"
   },
   {
    "duration": 13,
    "start_time": "2023-04-08T15:59:48.118Z"
   },
   {
    "duration": 10,
    "start_time": "2023-04-08T15:59:48.138Z"
   },
   {
    "duration": 10,
    "start_time": "2023-04-08T15:59:48.150Z"
   },
   {
    "duration": 32,
    "start_time": "2023-04-08T15:59:48.162Z"
   },
   {
    "duration": 12,
    "start_time": "2023-04-08T15:59:48.195Z"
   },
   {
    "duration": 10,
    "start_time": "2023-04-08T15:59:48.210Z"
   },
   {
    "duration": 22,
    "start_time": "2023-04-08T15:59:48.222Z"
   },
   {
    "duration": 13,
    "start_time": "2023-04-08T15:59:48.246Z"
   },
   {
    "duration": 34,
    "start_time": "2023-04-08T15:59:48.262Z"
   },
   {
    "duration": 15,
    "start_time": "2023-04-08T16:28:42.494Z"
   },
   {
    "duration": 33,
    "start_time": "2023-04-08T16:29:57.999Z"
   },
   {
    "duration": 22,
    "start_time": "2023-04-08T16:30:53.939Z"
   },
   {
    "duration": 18,
    "start_time": "2023-04-08T16:31:32.229Z"
   },
   {
    "duration": 995,
    "start_time": "2023-04-08T16:31:42.263Z"
   },
   {
    "duration": 199,
    "start_time": "2023-04-08T16:31:43.266Z"
   },
   {
    "duration": 19,
    "start_time": "2023-04-08T16:31:43.472Z"
   },
   {
    "duration": 18,
    "start_time": "2023-04-08T16:31:43.495Z"
   },
   {
    "duration": 14,
    "start_time": "2023-04-08T16:31:43.519Z"
   },
   {
    "duration": 23,
    "start_time": "2023-04-08T16:31:43.538Z"
   },
   {
    "duration": 21,
    "start_time": "2023-04-08T16:31:43.566Z"
   },
   {
    "duration": 29,
    "start_time": "2023-04-08T16:31:43.591Z"
   },
   {
    "duration": 22,
    "start_time": "2023-04-08T16:31:43.628Z"
   },
   {
    "duration": 25,
    "start_time": "2023-04-08T16:31:43.660Z"
   },
   {
    "duration": 18,
    "start_time": "2023-04-08T16:31:43.687Z"
   },
   {
    "duration": 11,
    "start_time": "2023-04-08T16:31:43.715Z"
   },
   {
    "duration": 28,
    "start_time": "2023-04-08T16:31:43.731Z"
   },
   {
    "duration": 11,
    "start_time": "2023-04-08T16:31:43.765Z"
   },
   {
    "duration": 11,
    "start_time": "2023-04-08T16:31:43.781Z"
   },
   {
    "duration": 20,
    "start_time": "2023-04-08T16:31:43.805Z"
   },
   {
    "duration": 10,
    "start_time": "2023-04-08T16:31:43.832Z"
   },
   {
    "duration": 14,
    "start_time": "2023-04-08T16:31:43.847Z"
   },
   {
    "duration": 13,
    "start_time": "2023-04-08T16:31:43.866Z"
   },
   {
    "duration": 16,
    "start_time": "2023-04-08T16:31:43.884Z"
   },
   {
    "duration": 16,
    "start_time": "2023-04-08T16:31:43.905Z"
   },
   {
    "duration": 22,
    "start_time": "2023-04-08T16:31:43.925Z"
   },
   {
    "duration": 15,
    "start_time": "2023-04-08T16:31:43.956Z"
   },
   {
    "duration": 16,
    "start_time": "2023-04-08T16:31:43.973Z"
   },
   {
    "duration": 193,
    "start_time": "2023-04-08T16:31:56.594Z"
   },
   {
    "duration": 240,
    "start_time": "2023-04-08T16:32:15.668Z"
   },
   {
    "duration": 126,
    "start_time": "2023-04-08T16:32:48.428Z"
   },
   {
    "duration": 121,
    "start_time": "2023-04-08T16:32:58.439Z"
   },
   {
    "duration": 178,
    "start_time": "2023-04-08T16:33:12.255Z"
   },
   {
    "duration": 24,
    "start_time": "2023-04-08T16:34:08.657Z"
   },
   {
    "duration": 15,
    "start_time": "2023-04-08T16:34:21.145Z"
   },
   {
    "duration": 151,
    "start_time": "2023-04-08T16:36:19.474Z"
   },
   {
    "duration": 24,
    "start_time": "2023-04-08T16:36:40.597Z"
   },
   {
    "duration": 34,
    "start_time": "2023-04-08T16:37:04.459Z"
   },
   {
    "duration": 15,
    "start_time": "2023-04-08T16:37:58.543Z"
   },
   {
    "duration": 19,
    "start_time": "2023-04-08T16:38:11.302Z"
   },
   {
    "duration": 12,
    "start_time": "2023-04-08T16:38:19.414Z"
   },
   {
    "duration": 61,
    "start_time": "2023-04-08T16:40:27.860Z"
   },
   {
    "duration": 11,
    "start_time": "2023-04-08T16:40:34.292Z"
   },
   {
    "duration": 16,
    "start_time": "2023-04-08T16:40:37.309Z"
   },
   {
    "duration": 8,
    "start_time": "2023-04-08T16:40:43.527Z"
   },
   {
    "duration": 11,
    "start_time": "2023-04-08T16:40:57.623Z"
   },
   {
    "duration": 7,
    "start_time": "2023-04-08T16:41:15.237Z"
   },
   {
    "duration": 10,
    "start_time": "2023-04-08T16:42:19.748Z"
   },
   {
    "duration": 108,
    "start_time": "2023-04-08T16:46:51.144Z"
   },
   {
    "duration": 103,
    "start_time": "2023-04-08T16:46:58.310Z"
   },
   {
    "duration": 734,
    "start_time": "2023-04-08T16:47:07.195Z"
   },
   {
    "duration": 101,
    "start_time": "2023-04-08T16:47:07.932Z"
   },
   {
    "duration": 11,
    "start_time": "2023-04-08T16:47:08.034Z"
   },
   {
    "duration": 10,
    "start_time": "2023-04-08T16:47:08.047Z"
   },
   {
    "duration": 16,
    "start_time": "2023-04-08T16:47:08.059Z"
   },
   {
    "duration": 18,
    "start_time": "2023-04-08T16:47:08.081Z"
   },
   {
    "duration": 15,
    "start_time": "2023-04-08T16:47:08.100Z"
   },
   {
    "duration": 12,
    "start_time": "2023-04-08T16:47:08.116Z"
   },
   {
    "duration": 8,
    "start_time": "2023-04-08T16:47:08.130Z"
   },
   {
    "duration": 12,
    "start_time": "2023-04-08T16:47:08.139Z"
   },
   {
    "duration": 28,
    "start_time": "2023-04-08T16:47:08.153Z"
   },
   {
    "duration": 6,
    "start_time": "2023-04-08T16:47:08.184Z"
   },
   {
    "duration": 7,
    "start_time": "2023-04-08T16:47:08.192Z"
   },
   {
    "duration": 21,
    "start_time": "2023-04-08T16:47:08.202Z"
   },
   {
    "duration": 5,
    "start_time": "2023-04-08T16:47:08.225Z"
   },
   {
    "duration": 6,
    "start_time": "2023-04-08T16:47:08.232Z"
   },
   {
    "duration": 7,
    "start_time": "2023-04-08T16:47:08.240Z"
   },
   {
    "duration": 5,
    "start_time": "2023-04-08T16:47:08.248Z"
   },
   {
    "duration": 10,
    "start_time": "2023-04-08T16:47:08.273Z"
   },
   {
    "duration": 14,
    "start_time": "2023-04-08T16:47:08.285Z"
   },
   {
    "duration": 24,
    "start_time": "2023-04-08T16:47:08.300Z"
   },
   {
    "duration": 9,
    "start_time": "2023-04-08T16:47:08.327Z"
   },
   {
    "duration": 10,
    "start_time": "2023-04-08T16:47:08.338Z"
   },
   {
    "duration": 105,
    "start_time": "2023-04-08T16:47:08.350Z"
   },
   {
    "duration": 159,
    "start_time": "2023-04-08T16:47:20.168Z"
   },
   {
    "duration": 125,
    "start_time": "2023-04-08T16:47:38.720Z"
   },
   {
    "duration": 140,
    "start_time": "2023-04-08T16:47:50.913Z"
   },
   {
    "duration": 11,
    "start_time": "2023-04-08T16:49:15.551Z"
   },
   {
    "duration": 46,
    "start_time": "2023-04-09T08:13:47.037Z"
   },
   {
    "duration": 700,
    "start_time": "2023-04-09T08:13:56.881Z"
   },
   {
    "duration": 172,
    "start_time": "2023-04-09T08:13:57.583Z"
   },
   {
    "duration": 11,
    "start_time": "2023-04-09T08:13:57.757Z"
   },
   {
    "duration": 19,
    "start_time": "2023-04-09T08:13:57.769Z"
   },
   {
    "duration": 8,
    "start_time": "2023-04-09T08:13:57.789Z"
   },
   {
    "duration": 8,
    "start_time": "2023-04-09T08:13:57.798Z"
   },
   {
    "duration": 6,
    "start_time": "2023-04-09T08:13:57.807Z"
   },
   {
    "duration": 12,
    "start_time": "2023-04-09T08:13:57.814Z"
   },
   {
    "duration": 8,
    "start_time": "2023-04-09T08:13:57.827Z"
   },
   {
    "duration": 21,
    "start_time": "2023-04-09T08:13:57.836Z"
   },
   {
    "duration": 11,
    "start_time": "2023-04-09T08:13:57.858Z"
   },
   {
    "duration": 4,
    "start_time": "2023-04-09T08:13:57.870Z"
   },
   {
    "duration": 4,
    "start_time": "2023-04-09T08:13:57.875Z"
   },
   {
    "duration": 2,
    "start_time": "2023-04-09T08:13:57.881Z"
   },
   {
    "duration": 7,
    "start_time": "2023-04-09T08:13:57.885Z"
   },
   {
    "duration": 6,
    "start_time": "2023-04-09T08:13:57.893Z"
   },
   {
    "duration": 5,
    "start_time": "2023-04-09T08:13:57.900Z"
   },
   {
    "duration": 8,
    "start_time": "2023-04-09T08:13:57.906Z"
   },
   {
    "duration": 11,
    "start_time": "2023-04-09T08:13:57.915Z"
   },
   {
    "duration": 14,
    "start_time": "2023-04-09T08:13:57.927Z"
   },
   {
    "duration": 14,
    "start_time": "2023-04-09T08:13:57.942Z"
   },
   {
    "duration": 8,
    "start_time": "2023-04-09T08:13:57.957Z"
   },
   {
    "duration": 8,
    "start_time": "2023-04-09T08:13:57.966Z"
   },
   {
    "duration": 8,
    "start_time": "2023-04-09T08:13:57.975Z"
   },
   {
    "duration": 5,
    "start_time": "2023-04-09T08:13:57.984Z"
   },
   {
    "duration": 71,
    "start_time": "2023-04-09T08:14:21.746Z"
   },
   {
    "duration": 5,
    "start_time": "2023-04-09T08:14:26.943Z"
   },
   {
    "duration": 6,
    "start_time": "2023-04-09T08:16:55.041Z"
   },
   {
    "duration": 77,
    "start_time": "2023-04-09T08:18:45.873Z"
   },
   {
    "duration": 10,
    "start_time": "2023-04-09T08:19:11.884Z"
   },
   {
    "duration": 15,
    "start_time": "2023-04-09T08:20:55.033Z"
   },
   {
    "duration": 17,
    "start_time": "2023-04-09T08:21:05.597Z"
   },
   {
    "duration": 11,
    "start_time": "2023-04-09T08:23:02.706Z"
   },
   {
    "duration": 8,
    "start_time": "2023-04-09T08:23:43.739Z"
   },
   {
    "duration": 11,
    "start_time": "2023-04-09T08:23:55.858Z"
   },
   {
    "duration": 7,
    "start_time": "2023-04-09T08:23:56.383Z"
   },
   {
    "duration": 7,
    "start_time": "2023-04-09T08:24:00.426Z"
   },
   {
    "duration": 604,
    "start_time": "2023-04-09T08:24:04.937Z"
   },
   {
    "duration": 55,
    "start_time": "2023-04-09T08:24:05.543Z"
   },
   {
    "duration": 10,
    "start_time": "2023-04-09T08:24:05.600Z"
   },
   {
    "duration": 17,
    "start_time": "2023-04-09T08:24:05.612Z"
   },
   {
    "duration": 14,
    "start_time": "2023-04-09T08:24:05.630Z"
   },
   {
    "duration": 27,
    "start_time": "2023-04-09T08:24:05.645Z"
   },
   {
    "duration": 20,
    "start_time": "2023-04-09T08:24:05.673Z"
   },
   {
    "duration": 20,
    "start_time": "2023-04-09T08:24:05.695Z"
   },
   {
    "duration": 11,
    "start_time": "2023-04-09T08:24:05.716Z"
   },
   {
    "duration": 14,
    "start_time": "2023-04-09T08:24:05.729Z"
   },
   {
    "duration": 25,
    "start_time": "2023-04-09T08:24:05.745Z"
   },
   {
    "duration": 12,
    "start_time": "2023-04-09T08:24:05.771Z"
   },
   {
    "duration": 9,
    "start_time": "2023-04-09T08:24:05.784Z"
   },
   {
    "duration": 10,
    "start_time": "2023-04-09T08:24:05.794Z"
   },
   {
    "duration": 26,
    "start_time": "2023-04-09T08:24:05.806Z"
   },
   {
    "duration": 24,
    "start_time": "2023-04-09T08:24:05.833Z"
   },
   {
    "duration": 24,
    "start_time": "2023-04-09T08:24:05.858Z"
   },
   {
    "duration": 14,
    "start_time": "2023-04-09T08:24:05.883Z"
   },
   {
    "duration": 43,
    "start_time": "2023-04-09T08:24:05.898Z"
   },
   {
    "duration": 13,
    "start_time": "2023-04-09T08:24:05.943Z"
   },
   {
    "duration": 21,
    "start_time": "2023-04-09T08:24:05.957Z"
   },
   {
    "duration": 15,
    "start_time": "2023-04-09T08:24:05.979Z"
   },
   {
    "duration": 6,
    "start_time": "2023-04-09T08:24:05.995Z"
   },
   {
    "duration": 18,
    "start_time": "2023-04-09T08:24:06.002Z"
   },
   {
    "duration": 27,
    "start_time": "2023-04-09T08:24:06.022Z"
   },
   {
    "duration": 24,
    "start_time": "2023-04-09T08:24:06.050Z"
   },
   {
    "duration": 8,
    "start_time": "2023-04-09T08:25:10.786Z"
   },
   {
    "duration": 9,
    "start_time": "2023-04-09T08:34:41.931Z"
   },
   {
    "duration": 656,
    "start_time": "2023-04-09T08:34:46.151Z"
   },
   {
    "duration": 54,
    "start_time": "2023-04-09T08:34:46.810Z"
   },
   {
    "duration": 10,
    "start_time": "2023-04-09T08:34:46.865Z"
   },
   {
    "duration": 9,
    "start_time": "2023-04-09T08:34:46.877Z"
   },
   {
    "duration": 18,
    "start_time": "2023-04-09T08:34:46.887Z"
   },
   {
    "duration": 10,
    "start_time": "2023-04-09T08:34:46.907Z"
   },
   {
    "duration": 7,
    "start_time": "2023-04-09T08:34:46.919Z"
   },
   {
    "duration": 8,
    "start_time": "2023-04-09T08:34:46.927Z"
   },
   {
    "duration": 5,
    "start_time": "2023-04-09T08:34:46.937Z"
   },
   {
    "duration": 9,
    "start_time": "2023-04-09T08:34:46.944Z"
   },
   {
    "duration": 9,
    "start_time": "2023-04-09T08:34:46.954Z"
   },
   {
    "duration": 3,
    "start_time": "2023-04-09T08:34:46.964Z"
   },
   {
    "duration": 5,
    "start_time": "2023-04-09T08:34:46.968Z"
   },
   {
    "duration": 7,
    "start_time": "2023-04-09T08:34:46.974Z"
   },
   {
    "duration": 15,
    "start_time": "2023-04-09T08:34:46.982Z"
   },
   {
    "duration": 7,
    "start_time": "2023-04-09T08:34:46.998Z"
   },
   {
    "duration": 7,
    "start_time": "2023-04-09T08:34:47.006Z"
   },
   {
    "duration": 26,
    "start_time": "2023-04-09T08:34:47.014Z"
   },
   {
    "duration": 3,
    "start_time": "2023-04-09T08:34:47.041Z"
   },
   {
    "duration": 4,
    "start_time": "2023-04-09T08:34:47.045Z"
   },
   {
    "duration": 8,
    "start_time": "2023-04-09T08:34:47.051Z"
   },
   {
    "duration": 7,
    "start_time": "2023-04-09T08:34:47.060Z"
   },
   {
    "duration": 7,
    "start_time": "2023-04-09T08:34:47.068Z"
   },
   {
    "duration": 8,
    "start_time": "2023-04-09T08:34:47.076Z"
   },
   {
    "duration": 12,
    "start_time": "2023-04-09T08:34:47.086Z"
   },
   {
    "duration": 41,
    "start_time": "2023-04-09T08:34:47.099Z"
   },
   {
    "duration": 391,
    "start_time": "2023-04-09T08:47:39.878Z"
   },
   {
    "duration": 608,
    "start_time": "2023-04-09T08:48:38.677Z"
   },
   {
    "duration": 54,
    "start_time": "2023-04-09T08:48:39.287Z"
   },
   {
    "duration": 11,
    "start_time": "2023-04-09T08:48:39.342Z"
   },
   {
    "duration": 10,
    "start_time": "2023-04-09T08:48:39.354Z"
   },
   {
    "duration": 7,
    "start_time": "2023-04-09T08:48:39.366Z"
   },
   {
    "duration": 9,
    "start_time": "2023-04-09T08:48:39.374Z"
   },
   {
    "duration": 7,
    "start_time": "2023-04-09T08:48:39.384Z"
   },
   {
    "duration": 9,
    "start_time": "2023-04-09T08:48:39.393Z"
   },
   {
    "duration": 41,
    "start_time": "2023-04-09T08:48:39.403Z"
   },
   {
    "duration": 9,
    "start_time": "2023-04-09T08:48:39.445Z"
   },
   {
    "duration": 10,
    "start_time": "2023-04-09T08:48:39.456Z"
   },
   {
    "duration": 11,
    "start_time": "2023-04-09T08:48:39.468Z"
   },
   {
    "duration": 7,
    "start_time": "2023-04-09T08:48:39.480Z"
   },
   {
    "duration": 7,
    "start_time": "2023-04-09T08:48:39.491Z"
   },
   {
    "duration": 7,
    "start_time": "2023-04-09T08:48:39.500Z"
   },
   {
    "duration": 7,
    "start_time": "2023-04-09T08:48:39.508Z"
   },
   {
    "duration": 28,
    "start_time": "2023-04-09T08:48:39.516Z"
   },
   {
    "duration": 6,
    "start_time": "2023-04-09T08:48:39.545Z"
   },
   {
    "duration": 4,
    "start_time": "2023-04-09T08:48:39.552Z"
   },
   {
    "duration": 4,
    "start_time": "2023-04-09T08:48:39.558Z"
   },
   {
    "duration": 15,
    "start_time": "2023-04-09T08:48:39.563Z"
   },
   {
    "duration": 10,
    "start_time": "2023-04-09T08:48:39.580Z"
   },
   {
    "duration": 7,
    "start_time": "2023-04-09T08:48:39.591Z"
   },
   {
    "duration": 45,
    "start_time": "2023-04-09T08:48:39.599Z"
   },
   {
    "duration": 13,
    "start_time": "2023-04-09T08:48:39.646Z"
   },
   {
    "duration": 6,
    "start_time": "2023-04-09T08:48:39.660Z"
   },
   {
    "duration": 426,
    "start_time": "2023-04-09T08:48:39.668Z"
   },
   {
    "duration": 26,
    "start_time": "2023-04-09T08:49:02.838Z"
   },
   {
    "duration": 24,
    "start_time": "2023-04-09T08:49:29.675Z"
   },
   {
    "duration": 26,
    "start_time": "2023-04-09T08:51:11.930Z"
   },
   {
    "duration": 887,
    "start_time": "2023-04-09T08:52:11.239Z"
   },
   {
    "duration": 665,
    "start_time": "2023-04-09T08:52:28.567Z"
   },
   {
    "duration": 838,
    "start_time": "2023-04-09T08:57:36.767Z"
   },
   {
    "duration": 625,
    "start_time": "2023-04-09T09:00:31.864Z"
   },
   {
    "duration": 398,
    "start_time": "2023-04-09T09:02:31.775Z"
   },
   {
    "duration": 28,
    "start_time": "2023-04-09T09:03:00.570Z"
   },
   {
    "duration": 26,
    "start_time": "2023-04-09T09:04:24.572Z"
   },
   {
    "duration": 341,
    "start_time": "2023-04-09T09:08:08.072Z"
   },
   {
    "duration": 83,
    "start_time": "2023-04-09T09:08:28.524Z"
   },
   {
    "duration": 75,
    "start_time": "2023-04-09T09:11:09.283Z"
   },
   {
    "duration": 9,
    "start_time": "2023-04-09T09:11:22.124Z"
   },
   {
    "duration": 70,
    "start_time": "2023-04-09T09:11:26.015Z"
   },
   {
    "duration": 12,
    "start_time": "2023-04-09T09:11:26.542Z"
   },
   {
    "duration": 26,
    "start_time": "2023-04-09T09:12:14.040Z"
   },
   {
    "duration": 8,
    "start_time": "2023-04-09T09:12:14.911Z"
   },
   {
    "duration": 24,
    "start_time": "2023-04-09T09:12:48.916Z"
   },
   {
    "duration": 35,
    "start_time": "2023-04-09T09:13:26.522Z"
   },
   {
    "duration": 641,
    "start_time": "2023-04-09T09:14:37.816Z"
   },
   {
    "duration": 71,
    "start_time": "2023-04-09T09:14:38.459Z"
   },
   {
    "duration": 15,
    "start_time": "2023-04-09T09:14:38.531Z"
   },
   {
    "duration": 11,
    "start_time": "2023-04-09T09:14:38.548Z"
   },
   {
    "duration": 8,
    "start_time": "2023-04-09T09:14:38.561Z"
   },
   {
    "duration": 12,
    "start_time": "2023-04-09T09:14:38.570Z"
   },
   {
    "duration": 6,
    "start_time": "2023-04-09T09:14:38.584Z"
   },
   {
    "duration": 8,
    "start_time": "2023-04-09T09:14:38.592Z"
   },
   {
    "duration": 5,
    "start_time": "2023-04-09T09:14:38.601Z"
   },
   {
    "duration": 10,
    "start_time": "2023-04-09T09:14:38.640Z"
   },
   {
    "duration": 10,
    "start_time": "2023-04-09T09:14:38.651Z"
   },
   {
    "duration": 6,
    "start_time": "2023-04-09T09:14:38.662Z"
   },
   {
    "duration": 4,
    "start_time": "2023-04-09T09:14:38.670Z"
   },
   {
    "duration": 6,
    "start_time": "2023-04-09T09:14:38.676Z"
   },
   {
    "duration": 5,
    "start_time": "2023-04-09T09:14:38.683Z"
   },
   {
    "duration": 4,
    "start_time": "2023-04-09T09:14:38.689Z"
   },
   {
    "duration": 49,
    "start_time": "2023-04-09T09:14:38.694Z"
   },
   {
    "duration": 8,
    "start_time": "2023-04-09T09:14:38.744Z"
   },
   {
    "duration": 19,
    "start_time": "2023-04-09T09:14:38.754Z"
   },
   {
    "duration": 19,
    "start_time": "2023-04-09T09:14:38.775Z"
   },
   {
    "duration": 8,
    "start_time": "2023-04-09T09:14:38.795Z"
   },
   {
    "duration": 94,
    "start_time": "2023-04-09T09:14:38.804Z"
   },
   {
    "duration": 0,
    "start_time": "2023-04-09T09:14:38.900Z"
   },
   {
    "duration": 0,
    "start_time": "2023-04-09T09:14:38.901Z"
   },
   {
    "duration": 0,
    "start_time": "2023-04-09T09:14:38.902Z"
   },
   {
    "duration": 775,
    "start_time": "2023-04-09T09:21:36.526Z"
   },
   {
    "duration": 166,
    "start_time": "2023-04-09T09:31:27.687Z"
   },
   {
    "duration": 226,
    "start_time": "2023-04-09T09:32:44.668Z"
   },
   {
    "duration": 18,
    "start_time": "2023-04-09T09:37:50.261Z"
   },
   {
    "duration": 276,
    "start_time": "2023-04-09T09:38:08.771Z"
   },
   {
    "duration": 331,
    "start_time": "2023-04-09T09:39:37.714Z"
   },
   {
    "duration": 292,
    "start_time": "2023-04-09T09:39:52.030Z"
   },
   {
    "duration": 290,
    "start_time": "2023-04-09T09:40:20.062Z"
   },
   {
    "duration": 289,
    "start_time": "2023-04-09T09:40:34.638Z"
   },
   {
    "duration": 181,
    "start_time": "2023-04-09T09:57:43.745Z"
   },
   {
    "duration": 221,
    "start_time": "2023-04-09T09:57:57.729Z"
   },
   {
    "duration": 167,
    "start_time": "2023-04-09T09:58:17.269Z"
   },
   {
    "duration": 172,
    "start_time": "2023-04-09T09:58:31.064Z"
   },
   {
    "duration": 197,
    "start_time": "2023-04-09T09:59:22.403Z"
   },
   {
    "duration": 236,
    "start_time": "2023-04-09T10:01:38.884Z"
   },
   {
    "duration": 257,
    "start_time": "2023-04-09T10:01:49.128Z"
   },
   {
    "duration": 212,
    "start_time": "2023-04-09T10:01:58.890Z"
   },
   {
    "duration": 176,
    "start_time": "2023-04-09T10:05:48.925Z"
   },
   {
    "duration": 203,
    "start_time": "2023-04-09T10:06:28.541Z"
   },
   {
    "duration": 22,
    "start_time": "2023-04-09T10:09:06.743Z"
   },
   {
    "duration": 262,
    "start_time": "2023-04-09T10:09:20.037Z"
   },
   {
    "duration": 279,
    "start_time": "2023-04-09T10:09:25.810Z"
   },
   {
    "duration": 251,
    "start_time": "2023-04-09T10:10:22.940Z"
   },
   {
    "duration": 319,
    "start_time": "2023-04-09T10:10:58.007Z"
   },
   {
    "duration": 245,
    "start_time": "2023-04-09T10:11:02.600Z"
   },
   {
    "duration": 395,
    "start_time": "2023-04-09T10:12:14.745Z"
   },
   {
    "duration": 355,
    "start_time": "2023-04-09T10:12:23.495Z"
   },
   {
    "duration": 400,
    "start_time": "2023-04-09T10:12:57.957Z"
   },
   {
    "duration": 8,
    "start_time": "2023-04-09T10:18:48.210Z"
   },
   {
    "duration": 6,
    "start_time": "2023-04-09T10:19:07.715Z"
   },
   {
    "duration": 12,
    "start_time": "2023-04-09T10:19:27.611Z"
   },
   {
    "duration": 8,
    "start_time": "2023-04-09T10:19:44.018Z"
   },
   {
    "duration": 1128,
    "start_time": "2023-04-09T10:20:10.771Z"
   },
   {
    "duration": 147,
    "start_time": "2023-04-09T10:20:26.073Z"
   },
   {
    "duration": 117,
    "start_time": "2023-04-09T10:21:30.819Z"
   },
   {
    "duration": 6,
    "start_time": "2023-04-09T10:23:41.714Z"
   },
   {
    "duration": 42,
    "start_time": "2023-04-09T13:27:46.321Z"
   },
   {
    "duration": 753,
    "start_time": "2023-04-09T13:28:01.708Z"
   },
   {
    "duration": 156,
    "start_time": "2023-04-09T13:28:02.463Z"
   },
   {
    "duration": 11,
    "start_time": "2023-04-09T13:28:02.620Z"
   },
   {
    "duration": 10,
    "start_time": "2023-04-09T13:28:02.632Z"
   },
   {
    "duration": 10,
    "start_time": "2023-04-09T13:28:02.643Z"
   },
   {
    "duration": 16,
    "start_time": "2023-04-09T13:28:02.655Z"
   },
   {
    "duration": 18,
    "start_time": "2023-04-09T13:28:02.672Z"
   },
   {
    "duration": 15,
    "start_time": "2023-04-09T13:28:02.692Z"
   },
   {
    "duration": 6,
    "start_time": "2023-04-09T13:28:02.708Z"
   },
   {
    "duration": 15,
    "start_time": "2023-04-09T13:28:02.715Z"
   },
   {
    "duration": 11,
    "start_time": "2023-04-09T13:28:02.732Z"
   },
   {
    "duration": 13,
    "start_time": "2023-04-09T13:28:02.744Z"
   },
   {
    "duration": 14,
    "start_time": "2023-04-09T13:28:02.759Z"
   },
   {
    "duration": 25,
    "start_time": "2023-04-09T13:28:02.777Z"
   },
   {
    "duration": 7,
    "start_time": "2023-04-09T13:28:02.803Z"
   },
   {
    "duration": 7,
    "start_time": "2023-04-09T13:28:02.811Z"
   },
   {
    "duration": 19,
    "start_time": "2023-04-09T13:28:02.819Z"
   },
   {
    "duration": 5,
    "start_time": "2023-04-09T13:28:02.840Z"
   },
   {
    "duration": 15,
    "start_time": "2023-04-09T13:28:02.846Z"
   },
   {
    "duration": 10,
    "start_time": "2023-04-09T13:28:02.863Z"
   },
   {
    "duration": 13,
    "start_time": "2023-04-09T13:28:02.876Z"
   },
   {
    "duration": 79,
    "start_time": "2023-04-09T13:28:02.891Z"
   },
   {
    "duration": 0,
    "start_time": "2023-04-09T13:28:02.971Z"
   },
   {
    "duration": 0,
    "start_time": "2023-04-09T13:28:02.974Z"
   },
   {
    "duration": 0,
    "start_time": "2023-04-09T13:28:02.977Z"
   },
   {
    "duration": 0,
    "start_time": "2023-04-09T13:28:02.978Z"
   },
   {
    "duration": 0,
    "start_time": "2023-04-09T13:28:02.980Z"
   },
   {
    "duration": 0,
    "start_time": "2023-04-09T13:28:02.981Z"
   },
   {
    "duration": 0,
    "start_time": "2023-04-09T13:28:02.982Z"
   },
   {
    "duration": 0,
    "start_time": "2023-04-09T13:28:02.984Z"
   },
   {
    "duration": 0,
    "start_time": "2023-04-09T13:28:02.985Z"
   },
   {
    "duration": 134,
    "start_time": "2023-04-09T13:28:23.298Z"
   },
   {
    "duration": 4,
    "start_time": "2023-04-09T13:28:26.106Z"
   },
   {
    "duration": 8,
    "start_time": "2023-04-09T13:34:48.240Z"
   },
   {
    "duration": 123,
    "start_time": "2023-04-09T13:35:16.140Z"
   },
   {
    "duration": 141,
    "start_time": "2023-04-09T13:36:28.040Z"
   },
   {
    "duration": 4,
    "start_time": "2023-04-09T13:46:02.921Z"
   },
   {
    "duration": 596,
    "start_time": "2023-04-09T14:33:56.701Z"
   },
   {
    "duration": 54,
    "start_time": "2023-04-09T14:33:57.299Z"
   },
   {
    "duration": 11,
    "start_time": "2023-04-09T14:33:57.355Z"
   },
   {
    "duration": 18,
    "start_time": "2023-04-09T14:33:57.368Z"
   },
   {
    "duration": 11,
    "start_time": "2023-04-09T14:33:57.388Z"
   },
   {
    "duration": 12,
    "start_time": "2023-04-09T14:33:57.400Z"
   },
   {
    "duration": 7,
    "start_time": "2023-04-09T14:33:57.413Z"
   },
   {
    "duration": 15,
    "start_time": "2023-04-09T14:33:57.422Z"
   },
   {
    "duration": 23,
    "start_time": "2023-04-09T14:33:57.439Z"
   },
   {
    "duration": 10,
    "start_time": "2023-04-09T14:33:57.464Z"
   },
   {
    "duration": 10,
    "start_time": "2023-04-09T14:33:57.475Z"
   },
   {
    "duration": 5,
    "start_time": "2023-04-09T14:33:57.487Z"
   },
   {
    "duration": 6,
    "start_time": "2023-04-09T14:33:57.493Z"
   },
   {
    "duration": 9,
    "start_time": "2023-04-09T14:33:57.502Z"
   },
   {
    "duration": 5,
    "start_time": "2023-04-09T14:33:57.513Z"
   },
   {
    "duration": 6,
    "start_time": "2023-04-09T14:33:57.519Z"
   },
   {
    "duration": 4,
    "start_time": "2023-04-09T14:33:57.526Z"
   },
   {
    "duration": 5,
    "start_time": "2023-04-09T14:33:57.531Z"
   },
   {
    "duration": 44,
    "start_time": "2023-04-09T14:33:57.537Z"
   },
   {
    "duration": 8,
    "start_time": "2023-04-09T14:33:57.582Z"
   },
   {
    "duration": 7,
    "start_time": "2023-04-09T14:33:57.592Z"
   },
   {
    "duration": 88,
    "start_time": "2023-04-09T14:33:57.601Z"
   },
   {
    "duration": 0,
    "start_time": "2023-04-09T14:33:57.691Z"
   },
   {
    "duration": 0,
    "start_time": "2023-04-09T14:33:57.692Z"
   },
   {
    "duration": 0,
    "start_time": "2023-04-09T14:33:57.693Z"
   },
   {
    "duration": 0,
    "start_time": "2023-04-09T14:33:57.694Z"
   },
   {
    "duration": 0,
    "start_time": "2023-04-09T14:33:57.695Z"
   },
   {
    "duration": 0,
    "start_time": "2023-04-09T14:33:57.696Z"
   },
   {
    "duration": 0,
    "start_time": "2023-04-09T14:33:57.696Z"
   },
   {
    "duration": 0,
    "start_time": "2023-04-09T14:33:57.698Z"
   },
   {
    "duration": 0,
    "start_time": "2023-04-09T14:33:57.698Z"
   },
   {
    "duration": 0,
    "start_time": "2023-04-09T14:33:57.699Z"
   },
   {
    "duration": 0,
    "start_time": "2023-04-09T14:33:57.700Z"
   },
   {
    "duration": 4,
    "start_time": "2023-04-09T14:34:56.603Z"
   },
   {
    "duration": 127,
    "start_time": "2023-04-09T14:34:59.738Z"
   },
   {
    "duration": 10,
    "start_time": "2023-04-09T14:35:24.685Z"
   },
   {
    "duration": 11,
    "start_time": "2023-04-09T14:35:44.181Z"
   },
   {
    "duration": 10,
    "start_time": "2023-04-09T14:35:46.781Z"
   },
   {
    "duration": 8,
    "start_time": "2023-04-09T14:36:22.604Z"
   },
   {
    "duration": 1142,
    "start_time": "2023-04-09T14:36:34.472Z"
   },
   {
    "duration": 15,
    "start_time": "2023-04-09T14:36:44.673Z"
   },
   {
    "duration": 7,
    "start_time": "2023-04-09T14:36:52.907Z"
   },
   {
    "duration": 487,
    "start_time": "2023-04-09T14:36:56.503Z"
   },
   {
    "duration": 174,
    "start_time": "2023-04-09T14:37:01.428Z"
   },
   {
    "duration": 316,
    "start_time": "2023-04-09T14:37:06.834Z"
   },
   {
    "duration": 166,
    "start_time": "2023-04-09T14:37:12.093Z"
   },
   {
    "duration": 272,
    "start_time": "2023-04-09T14:37:16.688Z"
   },
   {
    "duration": 141,
    "start_time": "2023-04-09T14:37:21.837Z"
   },
   {
    "duration": 133,
    "start_time": "2023-04-09T14:38:00.681Z"
   },
   {
    "duration": 4,
    "start_time": "2023-04-09T14:39:19.784Z"
   },
   {
    "duration": 600,
    "start_time": "2023-04-09T14:40:01.099Z"
   },
   {
    "duration": 55,
    "start_time": "2023-04-09T14:40:01.701Z"
   },
   {
    "duration": 15,
    "start_time": "2023-04-09T14:40:01.757Z"
   },
   {
    "duration": 37,
    "start_time": "2023-04-09T14:40:01.774Z"
   },
   {
    "duration": 56,
    "start_time": "2023-04-09T14:40:01.812Z"
   },
   {
    "duration": 41,
    "start_time": "2023-04-09T14:40:01.870Z"
   },
   {
    "duration": 41,
    "start_time": "2023-04-09T14:40:01.912Z"
   },
   {
    "duration": 46,
    "start_time": "2023-04-09T14:40:01.955Z"
   },
   {
    "duration": 21,
    "start_time": "2023-04-09T14:40:02.003Z"
   },
   {
    "duration": 23,
    "start_time": "2023-04-09T14:40:02.025Z"
   },
   {
    "duration": 18,
    "start_time": "2023-04-09T14:40:02.049Z"
   },
   {
    "duration": 45,
    "start_time": "2023-04-09T14:40:02.068Z"
   },
   {
    "duration": 26,
    "start_time": "2023-04-09T14:40:02.114Z"
   },
   {
    "duration": 18,
    "start_time": "2023-04-09T14:40:02.142Z"
   },
   {
    "duration": 37,
    "start_time": "2023-04-09T14:40:02.161Z"
   },
   {
    "duration": 31,
    "start_time": "2023-04-09T14:40:02.199Z"
   },
   {
    "duration": 33,
    "start_time": "2023-04-09T14:40:02.232Z"
   },
   {
    "duration": 27,
    "start_time": "2023-04-09T14:40:02.266Z"
   },
   {
    "duration": 40,
    "start_time": "2023-04-09T14:40:02.294Z"
   },
   {
    "duration": 16,
    "start_time": "2023-04-09T14:40:02.336Z"
   },
   {
    "duration": 12,
    "start_time": "2023-04-09T14:40:02.353Z"
   },
   {
    "duration": 37,
    "start_time": "2023-04-09T14:40:02.367Z"
   },
   {
    "duration": 18,
    "start_time": "2023-04-09T14:40:02.405Z"
   },
   {
    "duration": 9,
    "start_time": "2023-04-09T14:40:02.424Z"
   },
   {
    "duration": 487,
    "start_time": "2023-04-09T14:40:02.435Z"
   },
   {
    "duration": 172,
    "start_time": "2023-04-09T14:40:02.924Z"
   },
   {
    "duration": 263,
    "start_time": "2023-04-09T14:40:03.098Z"
   },
   {
    "duration": 217,
    "start_time": "2023-04-09T14:40:03.363Z"
   },
   {
    "duration": 283,
    "start_time": "2023-04-09T14:40:03.581Z"
   },
   {
    "duration": 137,
    "start_time": "2023-04-09T14:40:03.865Z"
   },
   {
    "duration": 3,
    "start_time": "2023-04-09T14:40:04.004Z"
   },
   {
    "duration": 144,
    "start_time": "2023-04-09T14:40:04.008Z"
   },
   {
    "duration": 4,
    "start_time": "2023-04-09T14:40:04.154Z"
   },
   {
    "duration": 199,
    "start_time": "2023-04-09T14:44:50.553Z"
   },
   {
    "duration": 202,
    "start_time": "2023-04-09T14:46:04.165Z"
   },
   {
    "duration": 192,
    "start_time": "2023-04-09T14:47:49.951Z"
   },
   {
    "duration": 135,
    "start_time": "2023-04-09T14:53:42.588Z"
   },
   {
    "duration": 1019,
    "start_time": "2023-04-09T14:54:12.997Z"
   },
   {
    "duration": 57,
    "start_time": "2023-04-09T14:54:14.019Z"
   },
   {
    "duration": 11,
    "start_time": "2023-04-09T14:54:14.078Z"
   },
   {
    "duration": 10,
    "start_time": "2023-04-09T14:54:14.090Z"
   },
   {
    "duration": 8,
    "start_time": "2023-04-09T14:54:14.101Z"
   },
   {
    "duration": 12,
    "start_time": "2023-04-09T14:54:14.110Z"
   },
   {
    "duration": 9,
    "start_time": "2023-04-09T14:54:14.123Z"
   },
   {
    "duration": 9,
    "start_time": "2023-04-09T14:54:14.134Z"
   },
   {
    "duration": 32,
    "start_time": "2023-04-09T14:54:14.145Z"
   },
   {
    "duration": 9,
    "start_time": "2023-04-09T14:54:14.179Z"
   },
   {
    "duration": 9,
    "start_time": "2023-04-09T14:54:14.189Z"
   },
   {
    "duration": 3,
    "start_time": "2023-04-09T14:54:14.199Z"
   },
   {
    "duration": 5,
    "start_time": "2023-04-09T14:54:14.204Z"
   },
   {
    "duration": 5,
    "start_time": "2023-04-09T14:54:14.211Z"
   },
   {
    "duration": 6,
    "start_time": "2023-04-09T14:54:14.217Z"
   },
   {
    "duration": 7,
    "start_time": "2023-04-09T14:54:14.224Z"
   },
   {
    "duration": 6,
    "start_time": "2023-04-09T14:54:14.232Z"
   },
   {
    "duration": 37,
    "start_time": "2023-04-09T14:54:14.240Z"
   },
   {
    "duration": 9,
    "start_time": "2023-04-09T14:54:14.278Z"
   },
   {
    "duration": 7,
    "start_time": "2023-04-09T14:54:14.289Z"
   },
   {
    "duration": 7,
    "start_time": "2023-04-09T14:54:14.297Z"
   },
   {
    "duration": 8,
    "start_time": "2023-04-09T14:54:14.305Z"
   },
   {
    "duration": 22,
    "start_time": "2023-04-09T14:54:14.315Z"
   },
   {
    "duration": 21,
    "start_time": "2023-04-09T14:54:14.339Z"
   },
   {
    "duration": 494,
    "start_time": "2023-04-09T14:54:14.362Z"
   },
   {
    "duration": 180,
    "start_time": "2023-04-09T14:54:14.858Z"
   },
   {
    "duration": 290,
    "start_time": "2023-04-09T14:54:15.040Z"
   },
   {
    "duration": 182,
    "start_time": "2023-04-09T14:54:15.332Z"
   },
   {
    "duration": 267,
    "start_time": "2023-04-09T14:54:15.515Z"
   },
   {
    "duration": 134,
    "start_time": "2023-04-09T14:54:15.783Z"
   },
   {
    "duration": 4,
    "start_time": "2023-04-09T14:54:15.919Z"
   },
   {
    "duration": 129,
    "start_time": "2023-04-09T14:54:15.924Z"
   },
   {
    "duration": 4,
    "start_time": "2023-04-09T14:54:16.055Z"
   },
   {
    "duration": 214,
    "start_time": "2023-04-09T14:54:16.061Z"
   },
   {
    "duration": 156,
    "start_time": "2023-04-09T14:54:16.277Z"
   },
   {
    "duration": 162,
    "start_time": "2023-04-09T14:55:49.448Z"
   },
   {
    "duration": 13,
    "start_time": "2023-04-09T15:06:29.039Z"
   },
   {
    "duration": 11,
    "start_time": "2023-04-09T15:14:37.549Z"
   },
   {
    "duration": 54,
    "start_time": "2023-04-09T16:27:23.412Z"
   },
   {
    "duration": 1368,
    "start_time": "2023-04-09T16:27:32.350Z"
   },
   {
    "duration": 206,
    "start_time": "2023-04-09T16:27:33.720Z"
   },
   {
    "duration": 16,
    "start_time": "2023-04-09T16:27:33.928Z"
   },
   {
    "duration": 14,
    "start_time": "2023-04-09T16:27:33.946Z"
   },
   {
    "duration": 15,
    "start_time": "2023-04-09T16:27:33.963Z"
   },
   {
    "duration": 14,
    "start_time": "2023-04-09T16:27:33.980Z"
   },
   {
    "duration": 15,
    "start_time": "2023-04-09T16:27:33.996Z"
   },
   {
    "duration": 14,
    "start_time": "2023-04-09T16:27:34.014Z"
   },
   {
    "duration": 20,
    "start_time": "2023-04-09T16:27:34.030Z"
   },
   {
    "duration": 22,
    "start_time": "2023-04-09T16:27:34.052Z"
   },
   {
    "duration": 15,
    "start_time": "2023-04-09T16:27:34.076Z"
   },
   {
    "duration": 6,
    "start_time": "2023-04-09T16:27:34.093Z"
   },
   {
    "duration": 19,
    "start_time": "2023-04-09T16:27:34.102Z"
   },
   {
    "duration": 8,
    "start_time": "2023-04-09T16:27:34.125Z"
   },
   {
    "duration": 19,
    "start_time": "2023-04-09T16:27:34.135Z"
   },
   {
    "duration": 11,
    "start_time": "2023-04-09T16:27:34.156Z"
   },
   {
    "duration": 4,
    "start_time": "2023-04-09T16:27:34.169Z"
   },
   {
    "duration": 10,
    "start_time": "2023-04-09T16:27:34.175Z"
   },
   {
    "duration": 14,
    "start_time": "2023-04-09T16:27:34.186Z"
   },
   {
    "duration": 12,
    "start_time": "2023-04-09T16:27:34.202Z"
   },
   {
    "duration": 13,
    "start_time": "2023-04-09T16:27:34.248Z"
   },
   {
    "duration": 18,
    "start_time": "2023-04-09T16:27:34.263Z"
   },
   {
    "duration": 20,
    "start_time": "2023-04-09T16:27:34.283Z"
   },
   {
    "duration": 10,
    "start_time": "2023-04-09T16:27:34.305Z"
   },
   {
    "duration": 701,
    "start_time": "2023-04-09T16:27:34.317Z"
   },
   {
    "duration": 216,
    "start_time": "2023-04-09T16:27:35.020Z"
   },
   {
    "duration": 351,
    "start_time": "2023-04-09T16:27:35.238Z"
   },
   {
    "duration": 202,
    "start_time": "2023-04-09T16:27:35.590Z"
   },
   {
    "duration": 359,
    "start_time": "2023-04-09T16:27:35.794Z"
   },
   {
    "duration": 155,
    "start_time": "2023-04-09T16:27:36.154Z"
   },
   {
    "duration": 4,
    "start_time": "2023-04-09T16:27:36.311Z"
   },
   {
    "duration": 173,
    "start_time": "2023-04-09T16:27:36.317Z"
   },
   {
    "duration": 5,
    "start_time": "2023-04-09T16:27:36.492Z"
   },
   {
    "duration": 308,
    "start_time": "2023-04-09T16:27:36.499Z"
   },
   {
    "duration": 179,
    "start_time": "2023-04-09T16:27:36.809Z"
   },
   {
    "duration": 12,
    "start_time": "2023-04-09T16:27:36.990Z"
   },
   {
    "duration": 13,
    "start_time": "2023-04-09T16:27:37.004Z"
   },
   {
    "duration": 72,
    "start_time": "2023-04-09T16:27:37.020Z"
   },
   {
    "duration": 16,
    "start_time": "2023-04-09T16:32:44.343Z"
   },
   {
    "duration": 15,
    "start_time": "2023-04-09T16:42:09.226Z"
   },
   {
    "duration": 14,
    "start_time": "2023-04-09T16:42:11.500Z"
   },
   {
    "duration": 1137,
    "start_time": "2023-04-09T16:42:20.325Z"
   },
   {
    "duration": 66,
    "start_time": "2023-04-09T16:42:21.463Z"
   },
   {
    "duration": 13,
    "start_time": "2023-04-09T16:42:21.531Z"
   },
   {
    "duration": 13,
    "start_time": "2023-04-09T16:42:21.546Z"
   },
   {
    "duration": 16,
    "start_time": "2023-04-09T16:42:21.562Z"
   },
   {
    "duration": 19,
    "start_time": "2023-04-09T16:42:21.580Z"
   },
   {
    "duration": 11,
    "start_time": "2023-04-09T16:42:21.600Z"
   },
   {
    "duration": 18,
    "start_time": "2023-04-09T16:42:21.613Z"
   },
   {
    "duration": 10,
    "start_time": "2023-04-09T16:42:21.632Z"
   },
   {
    "duration": 14,
    "start_time": "2023-04-09T16:42:21.648Z"
   },
   {
    "duration": 11,
    "start_time": "2023-04-09T16:42:21.663Z"
   },
   {
    "duration": 8,
    "start_time": "2023-04-09T16:42:21.676Z"
   },
   {
    "duration": 7,
    "start_time": "2023-04-09T16:42:21.686Z"
   },
   {
    "duration": 13,
    "start_time": "2023-04-09T16:42:21.697Z"
   },
   {
    "duration": 31,
    "start_time": "2023-04-09T16:42:21.712Z"
   },
   {
    "duration": 11,
    "start_time": "2023-04-09T16:42:21.744Z"
   },
   {
    "duration": 11,
    "start_time": "2023-04-09T16:42:21.757Z"
   },
   {
    "duration": 10,
    "start_time": "2023-04-09T16:42:21.769Z"
   },
   {
    "duration": 30,
    "start_time": "2023-04-09T16:42:21.781Z"
   },
   {
    "duration": 28,
    "start_time": "2023-04-09T16:42:21.813Z"
   },
   {
    "duration": 31,
    "start_time": "2023-04-09T16:42:21.843Z"
   },
   {
    "duration": 21,
    "start_time": "2023-04-09T16:42:21.877Z"
   },
   {
    "duration": 19,
    "start_time": "2023-04-09T16:42:21.900Z"
   },
   {
    "duration": 11,
    "start_time": "2023-04-09T16:42:21.920Z"
   },
   {
    "duration": 567,
    "start_time": "2023-04-09T16:42:21.933Z"
   },
   {
    "duration": 198,
    "start_time": "2023-04-09T16:42:22.501Z"
   },
   {
    "duration": 315,
    "start_time": "2023-04-09T16:42:22.700Z"
   },
   {
    "duration": 208,
    "start_time": "2023-04-09T16:42:23.016Z"
   },
   {
    "duration": 337,
    "start_time": "2023-04-09T16:42:23.226Z"
   },
   {
    "duration": 160,
    "start_time": "2023-04-09T16:42:23.565Z"
   },
   {
    "duration": 4,
    "start_time": "2023-04-09T16:42:23.727Z"
   },
   {
    "duration": 140,
    "start_time": "2023-04-09T16:42:23.733Z"
   },
   {
    "duration": 5,
    "start_time": "2023-04-09T16:42:23.874Z"
   },
   {
    "duration": 245,
    "start_time": "2023-04-09T16:42:23.881Z"
   },
   {
    "duration": 166,
    "start_time": "2023-04-09T16:42:24.128Z"
   },
   {
    "duration": 11,
    "start_time": "2023-04-09T16:42:24.296Z"
   },
   {
    "duration": 23,
    "start_time": "2023-04-09T16:42:24.308Z"
   },
   {
    "duration": 47,
    "start_time": "2023-04-09T16:42:24.333Z"
   },
   {
    "duration": 14,
    "start_time": "2023-04-09T16:42:24.382Z"
   },
   {
    "duration": 1176,
    "start_time": "2023-04-09T18:02:53.930Z"
   },
   {
    "duration": 66,
    "start_time": "2023-04-09T18:02:55.108Z"
   },
   {
    "duration": 14,
    "start_time": "2023-04-09T18:02:55.176Z"
   },
   {
    "duration": 12,
    "start_time": "2023-04-09T18:02:55.192Z"
   },
   {
    "duration": 15,
    "start_time": "2023-04-09T18:02:55.206Z"
   },
   {
    "duration": 11,
    "start_time": "2023-04-09T18:02:55.223Z"
   },
   {
    "duration": 17,
    "start_time": "2023-04-09T18:02:55.235Z"
   },
   {
    "duration": 16,
    "start_time": "2023-04-09T18:02:55.254Z"
   },
   {
    "duration": 7,
    "start_time": "2023-04-09T18:02:55.272Z"
   },
   {
    "duration": 23,
    "start_time": "2023-04-09T18:02:55.282Z"
   },
   {
    "duration": 32,
    "start_time": "2023-04-09T18:02:55.306Z"
   },
   {
    "duration": 10,
    "start_time": "2023-04-09T18:02:55.339Z"
   },
   {
    "duration": 10,
    "start_time": "2023-04-09T18:02:55.350Z"
   },
   {
    "duration": 13,
    "start_time": "2023-04-09T18:02:55.362Z"
   },
   {
    "duration": 8,
    "start_time": "2023-04-09T18:02:55.377Z"
   },
   {
    "duration": 9,
    "start_time": "2023-04-09T18:02:55.387Z"
   },
   {
    "duration": 10,
    "start_time": "2023-04-09T18:02:55.398Z"
   },
   {
    "duration": 24,
    "start_time": "2023-04-09T18:02:55.410Z"
   },
   {
    "duration": 13,
    "start_time": "2023-04-09T18:02:55.436Z"
   },
   {
    "duration": 11,
    "start_time": "2023-04-09T18:02:55.451Z"
   },
   {
    "duration": 9,
    "start_time": "2023-04-09T18:02:55.464Z"
   },
   {
    "duration": 17,
    "start_time": "2023-04-09T18:02:55.475Z"
   },
   {
    "duration": 49,
    "start_time": "2023-04-09T18:02:55.494Z"
   },
   {
    "duration": 10,
    "start_time": "2023-04-09T18:02:55.545Z"
   },
   {
    "duration": 597,
    "start_time": "2023-04-09T18:02:55.557Z"
   },
   {
    "duration": 202,
    "start_time": "2023-04-09T18:02:56.156Z"
   },
   {
    "duration": 285,
    "start_time": "2023-04-09T18:02:56.360Z"
   },
   {
    "duration": 243,
    "start_time": "2023-04-09T18:02:56.649Z"
   },
   {
    "duration": 356,
    "start_time": "2023-04-09T18:02:56.894Z"
   },
   {
    "duration": 145,
    "start_time": "2023-04-09T18:02:57.252Z"
   },
   {
    "duration": 4,
    "start_time": "2023-04-09T18:02:57.399Z"
   },
   {
    "duration": 178,
    "start_time": "2023-04-09T18:02:57.404Z"
   },
   {
    "duration": 4,
    "start_time": "2023-04-09T18:02:57.584Z"
   },
   {
    "duration": 223,
    "start_time": "2023-04-09T18:02:57.590Z"
   },
   {
    "duration": 147,
    "start_time": "2023-04-09T18:02:57.815Z"
   },
   {
    "duration": 9,
    "start_time": "2023-04-09T18:02:57.964Z"
   },
   {
    "duration": 18,
    "start_time": "2023-04-09T18:02:57.975Z"
   },
   {
    "duration": 58,
    "start_time": "2023-04-09T18:02:57.995Z"
   },
   {
    "duration": 17,
    "start_time": "2023-04-09T18:02:58.055Z"
   },
   {
    "duration": 84,
    "start_time": "2023-04-10T13:03:07.216Z"
   },
   {
    "duration": 1291,
    "start_time": "2023-04-10T13:03:17.751Z"
   },
   {
    "duration": 180,
    "start_time": "2023-04-10T13:03:19.044Z"
   },
   {
    "duration": 11,
    "start_time": "2023-04-10T13:03:19.226Z"
   },
   {
    "duration": 10,
    "start_time": "2023-04-10T13:03:19.238Z"
   },
   {
    "duration": 12,
    "start_time": "2023-04-10T13:03:19.250Z"
   },
   {
    "duration": 10,
    "start_time": "2023-04-10T13:03:19.263Z"
   },
   {
    "duration": 21,
    "start_time": "2023-04-10T13:03:19.275Z"
   },
   {
    "duration": 36,
    "start_time": "2023-04-10T13:03:19.297Z"
   },
   {
    "duration": 9,
    "start_time": "2023-04-10T13:03:19.335Z"
   },
   {
    "duration": 18,
    "start_time": "2023-04-10T13:03:19.346Z"
   },
   {
    "duration": 15,
    "start_time": "2023-04-10T13:03:19.365Z"
   },
   {
    "duration": 11,
    "start_time": "2023-04-10T13:03:19.382Z"
   },
   {
    "duration": 7,
    "start_time": "2023-04-10T13:03:19.394Z"
   },
   {
    "duration": 12,
    "start_time": "2023-04-10T13:03:19.404Z"
   },
   {
    "duration": 7,
    "start_time": "2023-04-10T13:03:19.418Z"
   },
   {
    "duration": 12,
    "start_time": "2023-04-10T13:03:19.426Z"
   },
   {
    "duration": 3,
    "start_time": "2023-04-10T13:03:19.440Z"
   },
   {
    "duration": 14,
    "start_time": "2023-04-10T13:03:19.445Z"
   },
   {
    "duration": 12,
    "start_time": "2023-04-10T13:03:19.461Z"
   },
   {
    "duration": 27,
    "start_time": "2023-04-10T13:03:19.474Z"
   },
   {
    "duration": 14,
    "start_time": "2023-04-10T13:03:19.502Z"
   },
   {
    "duration": 16,
    "start_time": "2023-04-10T13:03:19.517Z"
   },
   {
    "duration": 35,
    "start_time": "2023-04-10T13:03:19.535Z"
   },
   {
    "duration": 9,
    "start_time": "2023-04-10T13:03:19.572Z"
   },
   {
    "duration": 529,
    "start_time": "2023-04-10T13:03:19.582Z"
   },
   {
    "duration": 191,
    "start_time": "2023-04-10T13:03:20.113Z"
   },
   {
    "duration": 342,
    "start_time": "2023-04-10T13:03:20.306Z"
   },
   {
    "duration": 191,
    "start_time": "2023-04-10T13:03:20.649Z"
   },
   {
    "duration": 289,
    "start_time": "2023-04-10T13:03:20.841Z"
   },
   {
    "duration": 141,
    "start_time": "2023-04-10T13:03:21.131Z"
   },
   {
    "duration": 4,
    "start_time": "2023-04-10T13:03:21.273Z"
   },
   {
    "duration": 143,
    "start_time": "2023-04-10T13:03:21.279Z"
   },
   {
    "duration": 4,
    "start_time": "2023-04-10T13:03:21.424Z"
   },
   {
    "duration": 225,
    "start_time": "2023-04-10T13:03:21.429Z"
   },
   {
    "duration": 150,
    "start_time": "2023-04-10T13:03:21.656Z"
   },
   {
    "duration": 14,
    "start_time": "2023-04-10T13:03:21.807Z"
   },
   {
    "duration": 13,
    "start_time": "2023-04-10T13:03:21.823Z"
   },
   {
    "duration": 30,
    "start_time": "2023-04-10T13:03:21.837Z"
   },
   {
    "duration": 11,
    "start_time": "2023-04-10T13:03:21.869Z"
   },
   {
    "duration": 10,
    "start_time": "2023-04-10T13:03:43.826Z"
   },
   {
    "duration": 2,
    "start_time": "2023-04-10T13:04:01.099Z"
   },
   {
    "duration": 8,
    "start_time": "2023-04-10T13:04:01.694Z"
   },
   {
    "duration": 9,
    "start_time": "2023-04-10T13:04:04.767Z"
   },
   {
    "duration": 10,
    "start_time": "2023-04-10T13:04:08.728Z"
   },
   {
    "duration": 68,
    "start_time": "2023-04-10T13:05:29.152Z"
   },
   {
    "duration": 73,
    "start_time": "2023-04-10T13:05:35.600Z"
   },
   {
    "duration": 91,
    "start_time": "2023-04-10T13:10:07.772Z"
   },
   {
    "duration": 112,
    "start_time": "2023-04-10T13:10:19.568Z"
   },
   {
    "duration": 2,
    "start_time": "2023-04-10T13:10:26.363Z"
   },
   {
    "duration": 3,
    "start_time": "2023-04-10T13:10:38.703Z"
   },
   {
    "duration": 2,
    "start_time": "2023-04-10T13:10:42.713Z"
   },
   {
    "duration": 85,
    "start_time": "2023-04-10T13:10:53.580Z"
   },
   {
    "duration": 69,
    "start_time": "2023-04-10T13:10:58.825Z"
   },
   {
    "duration": 111,
    "start_time": "2023-04-10T13:11:21.279Z"
   },
   {
    "duration": 101,
    "start_time": "2023-04-10T13:11:49.630Z"
   },
   {
    "duration": 99,
    "start_time": "2023-04-10T13:12:32.674Z"
   },
   {
    "duration": 78,
    "start_time": "2023-04-10T13:12:52.601Z"
   },
   {
    "duration": 82,
    "start_time": "2023-04-10T13:12:58.474Z"
   },
   {
    "duration": 97,
    "start_time": "2023-04-10T13:14:26.990Z"
   },
   {
    "duration": 98,
    "start_time": "2023-04-10T13:17:19.393Z"
   },
   {
    "duration": 83,
    "start_time": "2023-04-10T13:17:53.069Z"
   },
   {
    "duration": 129,
    "start_time": "2023-04-10T13:18:26.869Z"
   },
   {
    "duration": 81,
    "start_time": "2023-04-10T13:20:10.778Z"
   }
  ],
  "kernelspec": {
   "display_name": "Python 3 (ipykernel)",
   "language": "python",
   "name": "python3"
  },
  "language_info": {
   "codemirror_mode": {
    "name": "ipython",
    "version": 3
   },
   "file_extension": ".py",
   "mimetype": "text/x-python",
   "name": "python",
   "nbconvert_exporter": "python",
   "pygments_lexer": "ipython3",
   "version": "3.9.13"
  },
  "toc": {
   "base_numbering": 1,
   "nav_menu": {},
   "number_sections": false,
   "sideBar": true,
   "skip_h1_title": false,
   "title_cell": "Table of Contents",
   "title_sidebar": "Contents",
   "toc_cell": false,
   "toc_position": {
    "height": "calc(100% - 180px)",
    "left": "10px",
    "top": "150px",
    "width": "276.264px"
   },
   "toc_section_display": true,
   "toc_window_display": false
  }
 },
 "nbformat": 4,
 "nbformat_minor": 2
}
